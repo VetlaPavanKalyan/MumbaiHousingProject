{
 "cells": [
  {
   "cell_type": "markdown",
   "source": [
    "# Outline\n",
    "- Importing the Libraries and Dataset\n",
    "- Preprocessing the Data\n",
    "    - Feature Engineering\n",
    "- Visualization for Outlier Detection\n",
    "- Outlier Removal\n",
    "- Model Building\n",
    "    - Linear Regression\n",
    "    - Cross fold method\n",
    "    - Grid Search CV\n",
    "    - Decision Tree Regressor\n",
    "- Python `PICKLE` File creaton\n",
    "- `JSON` file creation"
   ],
   "metadata": {
    "collapsed": false,
    "pycharm": {
     "name": "#%% md\n"
    }
   }
  },
  {
   "cell_type": "code",
   "execution_count": 34,
   "metadata": {
    "collapsed": true,
    "pycharm": {
     "name": "#%%\n"
    }
   },
   "outputs": [],
   "source": [
    "import pandas as pd\n",
    "import numpy as np\n",
    "import matplotlib\n",
    "import matplotlib.pyplot as plt\n",
    "%matplotlib inline"
   ]
  },
  {
   "cell_type": "code",
   "execution_count": 35,
   "outputs": [
    {
     "data": {
      "text/plain": "   Unnamed: 0    Price  Area  Location  No. of Bedrooms  New/Resale  \\\n0           0  4850000   720  Kharghar                1           0   \n1           1  4500000   600  Kharghar                1           0   \n2           2  6700000   650  Kharghar                1           0   \n3           3  4500000   650  Kharghar                1           0   \n4           4  5000000   665  Kharghar                1           0   \n\n   Gymnasium  Lift Available  Car Parking  Maintenance Staff  24x7 Security  \\\n0          0               1            1                  1              1   \n1          1               1            1                  1              1   \n2          1               1            1                  1              1   \n3          0               1            1                  1              1   \n4          0               1            1                  1              1   \n\n   Children  Clubhouse  Intercom  Landscaped Gardens  Indoor Games  \\\n0         0          0         0                   0             0   \n1         0          1         0                   0             0   \n2         1          1         1                   0             0   \n3         0          0         1                   1             0   \n4         0          0         1                   1             0   \n\n   Gas Connection  Jogging Track  Swimming Pool  \n0               0              0              0  \n1               0              1              1  \n2               0              1              1  \n3               0              0              0  \n4               0              0              0  ",
      "text/html": "<div>\n<style scoped>\n    .dataframe tbody tr th:only-of-type {\n        vertical-align: middle;\n    }\n\n    .dataframe tbody tr th {\n        vertical-align: top;\n    }\n\n    .dataframe thead th {\n        text-align: right;\n    }\n</style>\n<table border=\"1\" class=\"dataframe\">\n  <thead>\n    <tr style=\"text-align: right;\">\n      <th></th>\n      <th>Unnamed: 0</th>\n      <th>Price</th>\n      <th>Area</th>\n      <th>Location</th>\n      <th>No. of Bedrooms</th>\n      <th>New/Resale</th>\n      <th>Gymnasium</th>\n      <th>Lift Available</th>\n      <th>Car Parking</th>\n      <th>Maintenance Staff</th>\n      <th>24x7 Security</th>\n      <th>Children</th>\n      <th>Clubhouse</th>\n      <th>Intercom</th>\n      <th>Landscaped Gardens</th>\n      <th>Indoor Games</th>\n      <th>Gas Connection</th>\n      <th>Jogging Track</th>\n      <th>Swimming Pool</th>\n    </tr>\n  </thead>\n  <tbody>\n    <tr>\n      <th>0</th>\n      <td>0</td>\n      <td>4850000</td>\n      <td>720</td>\n      <td>Kharghar</td>\n      <td>1</td>\n      <td>0</td>\n      <td>0</td>\n      <td>1</td>\n      <td>1</td>\n      <td>1</td>\n      <td>1</td>\n      <td>0</td>\n      <td>0</td>\n      <td>0</td>\n      <td>0</td>\n      <td>0</td>\n      <td>0</td>\n      <td>0</td>\n      <td>0</td>\n    </tr>\n    <tr>\n      <th>1</th>\n      <td>1</td>\n      <td>4500000</td>\n      <td>600</td>\n      <td>Kharghar</td>\n      <td>1</td>\n      <td>0</td>\n      <td>1</td>\n      <td>1</td>\n      <td>1</td>\n      <td>1</td>\n      <td>1</td>\n      <td>0</td>\n      <td>1</td>\n      <td>0</td>\n      <td>0</td>\n      <td>0</td>\n      <td>0</td>\n      <td>1</td>\n      <td>1</td>\n    </tr>\n    <tr>\n      <th>2</th>\n      <td>2</td>\n      <td>6700000</td>\n      <td>650</td>\n      <td>Kharghar</td>\n      <td>1</td>\n      <td>0</td>\n      <td>1</td>\n      <td>1</td>\n      <td>1</td>\n      <td>1</td>\n      <td>1</td>\n      <td>1</td>\n      <td>1</td>\n      <td>1</td>\n      <td>0</td>\n      <td>0</td>\n      <td>0</td>\n      <td>1</td>\n      <td>1</td>\n    </tr>\n    <tr>\n      <th>3</th>\n      <td>3</td>\n      <td>4500000</td>\n      <td>650</td>\n      <td>Kharghar</td>\n      <td>1</td>\n      <td>0</td>\n      <td>0</td>\n      <td>1</td>\n      <td>1</td>\n      <td>1</td>\n      <td>1</td>\n      <td>0</td>\n      <td>0</td>\n      <td>1</td>\n      <td>1</td>\n      <td>0</td>\n      <td>0</td>\n      <td>0</td>\n      <td>0</td>\n    </tr>\n    <tr>\n      <th>4</th>\n      <td>4</td>\n      <td>5000000</td>\n      <td>665</td>\n      <td>Kharghar</td>\n      <td>1</td>\n      <td>0</td>\n      <td>0</td>\n      <td>1</td>\n      <td>1</td>\n      <td>1</td>\n      <td>1</td>\n      <td>0</td>\n      <td>0</td>\n      <td>1</td>\n      <td>1</td>\n      <td>0</td>\n      <td>0</td>\n      <td>0</td>\n      <td>0</td>\n    </tr>\n  </tbody>\n</table>\n</div>"
     },
     "execution_count": 35,
     "metadata": {},
     "output_type": "execute_result"
    }
   ],
   "source": [
    "df1 = pd.read_csv('dataset.csv')\n",
    "df1.head()"
   ],
   "metadata": {
    "collapsed": false,
    "pycharm": {
     "name": "#%%\n"
    }
   }
  },
  {
   "cell_type": "code",
   "execution_count": 36,
   "outputs": [
    {
     "data": {
      "text/plain": "False"
     },
     "execution_count": 36,
     "metadata": {},
     "output_type": "execute_result"
    }
   ],
   "source": [
    "df1.isnull().values.any()"
   ],
   "metadata": {
    "collapsed": false,
    "pycharm": {
     "name": "#%%\n"
    }
   }
  },
  {
   "cell_type": "code",
   "execution_count": 37,
   "outputs": [
    {
     "data": {
      "text/plain": "(6347, 19)"
     },
     "execution_count": 37,
     "metadata": {},
     "output_type": "execute_result"
    }
   ],
   "source": [
    "df1.shape"
   ],
   "metadata": {
    "collapsed": false,
    "pycharm": {
     "name": "#%%\n"
    }
   }
  },
  {
   "cell_type": "code",
   "execution_count": 38,
   "outputs": [
    {
     "data": {
      "text/plain": "array([ 720,  600,  650, ...,  250, 1162,  435], dtype=int64)"
     },
     "execution_count": 38,
     "metadata": {},
     "output_type": "execute_result"
    }
   ],
   "source": [
    "df1.Area.unique()"
   ],
   "metadata": {
    "collapsed": false,
    "pycharm": {
     "name": "#%%\n"
    }
   }
  },
  {
   "cell_type": "code",
   "execution_count": 39,
   "outputs": [
    {
     "data": {
      "text/plain": "array(['Kharghar', 'Sector-13 Kharghar', 'Sector 18 Kharghar',\n       'Sector 20 Kharghar', 'Sector 15 Kharghar', 'Dombivali',\n       'Churchgate', 'Prabhadevi', 'Jogeshwari West', 'Kalyan East',\n       'Malad East', 'Virar East', 'Virar', 'Malad West', 'Borivali East',\n       'Mira Road East', 'Goregaon West', 'Kandivali West',\n       'Borivali West', 'Kandivali East', 'Andheri East', 'Goregaon East',\n       'Wadala', 'Ulwe', 'Dahisar', 'kandivali', 'Goregaon',\n       'Bhandup West', 'thakur village kandivali east', 'Santacruz West',\n       'Kanjurmarg', 'I C Colony', 'Dahisar W', 'Marol', 'Parel',\n       'Lower Parel', 'Worli', 'Jogeshwari East', 'Chembur Shell Colony',\n       'Central Avenue', 'Chembur East', 'Diamond Market Road', 'Mulund',\n       'Nalasopara West', 'raheja vihar', 'Powai Lake', 'MHADA Colony 20',\n       'Tolaram Colony', 'Taloja', 'Thane West', 'Vangani',\n       'Sector 5 Ulwe', 'Sector12 New Panvel', 'Sector 17 Ulwe',\n       'Sector9 Kamothe', 'Sector 19 Kharghar', 'Navi Basti',\n       'Sector12 Kamothe', 'Sector 21 Kamothe', 'Rutu Enclave',\n       'taloja panchanand', 'Virar West', 'Chembur', 'Sector 20 Kamothe',\n       'Sector 22 Kamothe', 'Sector 18 Kamothe', 'Sector-5 Kamothe',\n       'Sector-6A Kamothe', 'Sector 11 Kamothe', 'Sector-18 Ulwe',\n       'Sector-12 Kamothe', 'azad nagar', 'Sindhi Society Chembur',\n       'Kurla', 'Sahkar Nagar', 'Deonar', 'Thane', 'Jankalyan Nagar',\n       'Badlapur', 'Ambarnath', 'Ambernath West', 'Vakola', 'Kamothe',\n       'Kamothe Sector 16', 'Almeida Park', 'Khar', 'Bandra West',\n       'Pali Hill', '15th Road', 'Palghar', 'Sector13 Kharghar',\n       'Sector 21 Kharghar', 'Sector 12 Kharghar', 'Vivek Vidyalaya Marg',\n       'Vasai east', 'Nahur', 'Badlapur West', 'Panvel', 'Kalyan',\n       'Badlapur East', 'Mira Bhayandar', 'Juhu', 'Naigaon East',\n       'Sector 21 Ulwe', 'Bandra East', 'Dronagiri', 'Nerul', 'Karanjade',\n       'Sanpada', 'Sector-8 Ulwe', 'Sector-3 Ulwe', 'Sector 23 Ulwe',\n       'ULWE SECTOR 19', 'Ghodbunder Road', 'Bhiwandi', 'Vasai',\n       'Nala Sopara', 'Dadar East', 'Ghatkopar', 'Breach Candy',\n       'Worli South Mumbai', 'Asangaon', 'Koparkhairane Station Road',\n       'Kopar Khairane Sector 19A', 'Koper Khairane',\n       'Eastern Express Highway Vikhroli', 'Magathane', 'Rawal Pada',\n       'Ambernath East', 'Dokali Pada', 'Dattapada', 'Rajendra Nagar',\n       'Kulupwadi', 'Samata Nagar Thakur Village', 'Mira Road and Beyond',\n       'West Amardeep Colony', 'Pant Nagar', 'mumbai', 'Four Bungalows',\n       'no 9', 'kolshet', 'Hiranandani Meadows', 'Kalpataru', 'Petali',\n       'Kharghar Sector 34C', 'Ghatkopar East',\n       'Mumbai Agra National Highway', 'vasant vihar thane west',\n       'Kalyan West', 'Shirgaon', 'Pokhran 2', 'juhu tara', 'Peddar Road',\n       'Palm Beach', 'Sector 10', 'Sector 19 Kamothe', 'Tilak Nagar',\n       'Ghatkopar West', 'Tardeo', 'Napeansea Road', 'Mahalaxmi',\n       'Dahisar West', 'Mulund West', 'Natakwala Lane', 'Link Road',\n       'Devidas Cross Lane', 'Soniwadi Road', 'Haridas Nagar', 'Shimpoli',\n       'TPS Road', 'Off Shimpoli road', 'Rustomjee Global City',\n       'Sunil Nagar', 'Sector 30 Kharghar', 'Sector 12 A', 'Sector 18',\n       'Sector13 Khanda Colony', 'Sector16 Airoli', 'Ranjanpada',\n       'Sector 15', 'Sector 35G', 'Sector 5', 'Sector 35I Kharghar',\n       'Sector35D Kharghar', 'Sector34 A Kharghar', 'Sector 30',\n       'Sector 36 Kharghar', 'Sector 11 Belapur', 'Sector-34B Kharghar',\n       'Dombivali East', 'Roadpali', 'Sector-50 Seawoods',\n       'Mumbai Highway', 'Sector 7 Kharghar', 'Lokhandwala Township',\n       'Andheri', 'Andheri West', 'Shastri Nagar', 'Wadala East Wadala',\n       'Kalwa', 'PARSIK NAGAR', 'Maharashtra Nagar', 'Patlipada',\n       'Belapur', 'Seawoods', 'Majiwada', '4 Bunglows', 'Airoli',\n       'Kolshet Road', 'Sector 10 Khanda Colony', 'Pokharan Road',\n       'Kharegaon', 'Panch Pakhadi', 'Sector 36 Kamothe',\n       'Dombivli (West)', 'DN Nagar Road', 'Godrej Hill', 'Ganesh Nagar',\n       'Haware City', 'Mahatma Gandhi Road', 'Akurli Nagar',\n       'Kasar vadavali', 'Vasai West', 'Mumbai Nashik Expressway',\n       'Katrap', 'Mira Road', 'Kasheli',\n       'Western Express Highway Kandivali East', 'Vasind', 'KASHELI',\n       'Thakurli', 'Shakti Nagar', 'Bhayandar East', 'Dahisar East',\n       'ulhasnagar 4', 'Sector-26 Taloja', 'Koproli', 'Mumbai Central',\n       'Greater Khanda', 'link road borivali west', 'Manpada',\n       'Sector 2 Ulwe', 'Govind nagar', 'Krishanlal Marwah Marg',\n       'Sector-9 Ulwe', 'Vikhroli', 'Kalamboli', 'Lokhandwala',\n       'Patel Nagar', 'Yari Road', 'Thakur complex', 'Khar West',\n       'Sector 11 Kharghar', 'Ghansoli', 'Sector8 Sanpada',\n       'Jeejamata Nagar', 'Pandurangwadi', 'Shreyas Colony',\n       'Kannamwar Nagar II', 'gokuldham', 'Bangur Nagar',\n       'Shivaji Colony', 'Jawahar Nagar', 'Vedant Complex', 'Titwala',\n       'Manvel pada Road', 'Govandi', 'Shilphata Road Thane',\n       'Vasant Vihar', 'Thakur Village', 'Samata nagar', 'Wadi Bandar',\n       'Kapurbawadi', 'Thane Belapur Road Kalwa', 'Suburbs Mumbai',\n       'Ramdev Park', 'Sector-35 Kamothe',\n       'Sector 58A Seawoods Navi Mumbai', 'Diva', 'Borivali',\n       'Gundavali Gaothan', 'Kondivita Road', 'Koldongri', 'Saki Naka',\n       'Bhayandar West', 'Versova', 'Hanuman Nagar', 'worli sea face ',\n       'Sea Face', 'Shiv Sagar Estate', 'Grant Road West', 'Sriprastha',\n       'Off Nepean Sea Road', 'Morya Nagar', 'Upper Worli',\n       'worli sea Fase', 'Powai', 'Agripada', 'Sion', 'Girgaon',\n       'IT Colony', 'Bhayandarpada', 'Sector-24 Kamothe', 'Phase 2',\n       'Sector 6', 'Malad', 'Haji Ali', 'Majiwada thane', 'Yogi Hills',\n       'Sector 19 Nerul', 'Owale', 'MG Road', 'roadpali navimumbai',\n       'Taloja Bypass Nitalas Link Road', 'Rasayani', 'Sector 10 Kamothe',\n       'kavesar', 'Kopara', 'royal palms goregaon east', 'Dadar West',\n       'vrindavan society', 'CBD Belapur East', 'Parel Village',\n       'Karave Nagar', 'Sector 19A Nerul', 'Antop Hill', 'Suman Nagar',\n       'Bhakti Park', 'Hanuman Chowk', 'Willingdon', 'VishnuNagar',\n       'Vichumbe', 'Vashi', 'Poonam Sagar Complex', 'Santacruz East',\n       'Mulund East', 'Sector-8 Sanpada', 'Sector-9 Ghansoli', 'Balkum',\n       'Hiranandani Estates', 'Vartak Nagar', 'Charkop', 'dhanukarwadi',\n       'Vazira', 'Four Bunglows', 'Palava',\n       'Oshiwara Police Station Road', 'Seven Bunglow', 'Poddar Road',\n       'Gulmohar Road', 'Vile Parle E', 'Pokhran Road No 2',\n       'Sainath Nagar', 'Kapur Bawdi', 'Manpada near Tiku ji ni wadi',\n       'Kolshet Industrial Area', 'Sector16 Ulwe',\n       'Anand Nagar Thane West', 'Charkop Sector 8', 'Vile Parle',\n       'Marine Lines', 'Bandra Kurla Complex', 'sec 50 new',\n       'Vakola Pipeline Road', 'Neral', 'Shil Phata', 'Ville Parle East',\n       'matunga east', 'Dharavi', 'vile parle west', 'Anjurdive', 'Uran',\n       'Boisar', 'Kanjurmarg East', 'Kurla West', 'Sewri', 'Matunga',\n       'Goregaon (East)', 'Malabar Hill', 'Ambivali', 'Nalasopara East',\n       'Vijay Nagar', 'Chedda Nagar', 'Kurla East', 'Kharodi',\n       'Ville Parle West', 'Vikhroli West', 'Wadala East', 'Palidevad',\n       'Vikroli East', 'Mahim', 'Khalapur', 'Karjat', 'Vitthalwadi',\n       'Bhoiwada Kalyan', 'Beturkar Pada', 'Ambivli', 'Nilje Gaon',\n       'Khopoli', 'Taloje', 'Gulal Wadi', 'Tilak Nagar Mumbai',\n       'Chandivali', 'Nere', 'Kewale', 'Sector 9 Airoli', 'Diva Gaon',\n       'Sen Nagar', 'Adaigaon', 'Syndicate', 'Gandhar Nagar', 'Byculla',\n       'Padle Gaon'], dtype=object)"
     },
     "execution_count": 39,
     "metadata": {},
     "output_type": "execute_result"
    }
   ],
   "source": [
    "df1.Location.unique()"
   ],
   "metadata": {
    "collapsed": false,
    "pycharm": {
     "name": "#%%\n"
    }
   }
  },
  {
   "cell_type": "code",
   "execution_count": 40,
   "outputs": [
    {
     "data": {
      "text/plain": "Kharghar             533\nThane West           418\nMira Road East       390\nUlwe                 319\nBorivali West        176\n                    ... \nworli sea face         1\nSea Face               1\nShiv Sagar Estate      1\nNatakwala Lane         1\nPadle Gaon             1\nName: Location, Length: 413, dtype: int64"
     },
     "execution_count": 40,
     "metadata": {},
     "output_type": "execute_result"
    }
   ],
   "source": [
    "location_details = df1['Location'].value_counts(ascending=False)\n",
    "location_details"
   ],
   "metadata": {
    "collapsed": false,
    "pycharm": {
     "name": "#%%\n"
    }
   }
  },
  {
   "cell_type": "code",
   "execution_count": 41,
   "outputs": [
    {
     "data": {
      "text/plain": "324"
     },
     "execution_count": 41,
     "metadata": {},
     "output_type": "execute_result"
    }
   ],
   "source": [
    "location_details_less_than_10 = location_details[location_details <= 10]\n",
    "len(location_details_less_than_10)"
   ],
   "metadata": {
    "collapsed": false,
    "pycharm": {
     "name": "#%%\n"
    }
   }
  },
  {
   "cell_type": "code",
   "execution_count": 42,
   "outputs": [
    {
     "data": {
      "text/plain": "      Unnamed: 0     Price  Area       Location  No. of Bedrooms  New/Resale  \\\n0              0   4850000   720       Kharghar                1           0   \n1              1   4500000   600       Kharghar                1           0   \n2              2   6700000   650       Kharghar                1           0   \n3              3   4500000   650       Kharghar                1           0   \n4              4   5000000   665       Kharghar                1           0   \n...          ...       ...   ...            ...              ...         ...   \n6342        6342   2485000   700       Shirgaon                1           1   \n6343        6343  14500000   900     Thane West                2           0   \n6344        6344  14500000   900     Thane West                2           0   \n6345        6345   4100000  1380         Boisar                3           0   \n6346        6346   2750000   700  Badlapur East                1           1   \n\n      Gymnasium  Lift Available  Car Parking  Maintenance Staff  \\\n0             0               1            1                  1   \n1             1               1            1                  1   \n2             1               1            1                  1   \n3             0               1            1                  1   \n4             0               1            1                  1   \n...         ...             ...          ...                ...   \n6342          0               0            0                  0   \n6343          0               0            0                  0   \n6344          0               1            0                  0   \n6345          0               0            0                  0   \n6346          1               1            1                  0   \n\n      24x7 Security  Children  Clubhouse  Intercom  Landscaped Gardens  \\\n0                 1         0          0         0                   0   \n1                 1         0          1         0                   0   \n2                 1         1          1         1                   0   \n3                 1         0          0         1                   1   \n4                 1         0          0         1                   1   \n...             ...       ...        ...       ...                 ...   \n6342              0         0          0         0                   0   \n6343              0         0          0         0                   0   \n6344              0         0          0         1                   0   \n6345              0         0          0         0                   0   \n6346              1         1          1         0                   1   \n\n      Indoor Games  Gas Connection  Jogging Track  Swimming Pool  \\\n0                0               0              0              0   \n1                0               0              1              1   \n2                0               0              1              1   \n3                0               0              0              0   \n4                0               0              0              0   \n...            ...             ...            ...            ...   \n6342             0               0              0              0   \n6343             0               0              0              0   \n6344             0               1              0              0   \n6345             0               0              0              0   \n6346             1               0              1              1   \n\n           location  \n0          Kharghar  \n1          Kharghar  \n2          Kharghar  \n3          Kharghar  \n4          Kharghar  \n...             ...  \n6342          other  \n6343     Thane West  \n6344     Thane West  \n6345         Boisar  \n6346  Badlapur East  \n\n[6347 rows x 20 columns]",
      "text/html": "<div>\n<style scoped>\n    .dataframe tbody tr th:only-of-type {\n        vertical-align: middle;\n    }\n\n    .dataframe tbody tr th {\n        vertical-align: top;\n    }\n\n    .dataframe thead th {\n        text-align: right;\n    }\n</style>\n<table border=\"1\" class=\"dataframe\">\n  <thead>\n    <tr style=\"text-align: right;\">\n      <th></th>\n      <th>Unnamed: 0</th>\n      <th>Price</th>\n      <th>Area</th>\n      <th>Location</th>\n      <th>No. of Bedrooms</th>\n      <th>New/Resale</th>\n      <th>Gymnasium</th>\n      <th>Lift Available</th>\n      <th>Car Parking</th>\n      <th>Maintenance Staff</th>\n      <th>24x7 Security</th>\n      <th>Children</th>\n      <th>Clubhouse</th>\n      <th>Intercom</th>\n      <th>Landscaped Gardens</th>\n      <th>Indoor Games</th>\n      <th>Gas Connection</th>\n      <th>Jogging Track</th>\n      <th>Swimming Pool</th>\n      <th>location</th>\n    </tr>\n  </thead>\n  <tbody>\n    <tr>\n      <th>0</th>\n      <td>0</td>\n      <td>4850000</td>\n      <td>720</td>\n      <td>Kharghar</td>\n      <td>1</td>\n      <td>0</td>\n      <td>0</td>\n      <td>1</td>\n      <td>1</td>\n      <td>1</td>\n      <td>1</td>\n      <td>0</td>\n      <td>0</td>\n      <td>0</td>\n      <td>0</td>\n      <td>0</td>\n      <td>0</td>\n      <td>0</td>\n      <td>0</td>\n      <td>Kharghar</td>\n    </tr>\n    <tr>\n      <th>1</th>\n      <td>1</td>\n      <td>4500000</td>\n      <td>600</td>\n      <td>Kharghar</td>\n      <td>1</td>\n      <td>0</td>\n      <td>1</td>\n      <td>1</td>\n      <td>1</td>\n      <td>1</td>\n      <td>1</td>\n      <td>0</td>\n      <td>1</td>\n      <td>0</td>\n      <td>0</td>\n      <td>0</td>\n      <td>0</td>\n      <td>1</td>\n      <td>1</td>\n      <td>Kharghar</td>\n    </tr>\n    <tr>\n      <th>2</th>\n      <td>2</td>\n      <td>6700000</td>\n      <td>650</td>\n      <td>Kharghar</td>\n      <td>1</td>\n      <td>0</td>\n      <td>1</td>\n      <td>1</td>\n      <td>1</td>\n      <td>1</td>\n      <td>1</td>\n      <td>1</td>\n      <td>1</td>\n      <td>1</td>\n      <td>0</td>\n      <td>0</td>\n      <td>0</td>\n      <td>1</td>\n      <td>1</td>\n      <td>Kharghar</td>\n    </tr>\n    <tr>\n      <th>3</th>\n      <td>3</td>\n      <td>4500000</td>\n      <td>650</td>\n      <td>Kharghar</td>\n      <td>1</td>\n      <td>0</td>\n      <td>0</td>\n      <td>1</td>\n      <td>1</td>\n      <td>1</td>\n      <td>1</td>\n      <td>0</td>\n      <td>0</td>\n      <td>1</td>\n      <td>1</td>\n      <td>0</td>\n      <td>0</td>\n      <td>0</td>\n      <td>0</td>\n      <td>Kharghar</td>\n    </tr>\n    <tr>\n      <th>4</th>\n      <td>4</td>\n      <td>5000000</td>\n      <td>665</td>\n      <td>Kharghar</td>\n      <td>1</td>\n      <td>0</td>\n      <td>0</td>\n      <td>1</td>\n      <td>1</td>\n      <td>1</td>\n      <td>1</td>\n      <td>0</td>\n      <td>0</td>\n      <td>1</td>\n      <td>1</td>\n      <td>0</td>\n      <td>0</td>\n      <td>0</td>\n      <td>0</td>\n      <td>Kharghar</td>\n    </tr>\n    <tr>\n      <th>...</th>\n      <td>...</td>\n      <td>...</td>\n      <td>...</td>\n      <td>...</td>\n      <td>...</td>\n      <td>...</td>\n      <td>...</td>\n      <td>...</td>\n      <td>...</td>\n      <td>...</td>\n      <td>...</td>\n      <td>...</td>\n      <td>...</td>\n      <td>...</td>\n      <td>...</td>\n      <td>...</td>\n      <td>...</td>\n      <td>...</td>\n      <td>...</td>\n      <td>...</td>\n    </tr>\n    <tr>\n      <th>6342</th>\n      <td>6342</td>\n      <td>2485000</td>\n      <td>700</td>\n      <td>Shirgaon</td>\n      <td>1</td>\n      <td>1</td>\n      <td>0</td>\n      <td>0</td>\n      <td>0</td>\n      <td>0</td>\n      <td>0</td>\n      <td>0</td>\n      <td>0</td>\n      <td>0</td>\n      <td>0</td>\n      <td>0</td>\n      <td>0</td>\n      <td>0</td>\n      <td>0</td>\n      <td>other</td>\n    </tr>\n    <tr>\n      <th>6343</th>\n      <td>6343</td>\n      <td>14500000</td>\n      <td>900</td>\n      <td>Thane West</td>\n      <td>2</td>\n      <td>0</td>\n      <td>0</td>\n      <td>0</td>\n      <td>0</td>\n      <td>0</td>\n      <td>0</td>\n      <td>0</td>\n      <td>0</td>\n      <td>0</td>\n      <td>0</td>\n      <td>0</td>\n      <td>0</td>\n      <td>0</td>\n      <td>0</td>\n      <td>Thane West</td>\n    </tr>\n    <tr>\n      <th>6344</th>\n      <td>6344</td>\n      <td>14500000</td>\n      <td>900</td>\n      <td>Thane West</td>\n      <td>2</td>\n      <td>0</td>\n      <td>0</td>\n      <td>1</td>\n      <td>0</td>\n      <td>0</td>\n      <td>0</td>\n      <td>0</td>\n      <td>0</td>\n      <td>1</td>\n      <td>0</td>\n      <td>0</td>\n      <td>1</td>\n      <td>0</td>\n      <td>0</td>\n      <td>Thane West</td>\n    </tr>\n    <tr>\n      <th>6345</th>\n      <td>6345</td>\n      <td>4100000</td>\n      <td>1380</td>\n      <td>Boisar</td>\n      <td>3</td>\n      <td>0</td>\n      <td>0</td>\n      <td>0</td>\n      <td>0</td>\n      <td>0</td>\n      <td>0</td>\n      <td>0</td>\n      <td>0</td>\n      <td>0</td>\n      <td>0</td>\n      <td>0</td>\n      <td>0</td>\n      <td>0</td>\n      <td>0</td>\n      <td>Boisar</td>\n    </tr>\n    <tr>\n      <th>6346</th>\n      <td>6346</td>\n      <td>2750000</td>\n      <td>700</td>\n      <td>Badlapur East</td>\n      <td>1</td>\n      <td>1</td>\n      <td>1</td>\n      <td>1</td>\n      <td>1</td>\n      <td>0</td>\n      <td>1</td>\n      <td>1</td>\n      <td>1</td>\n      <td>0</td>\n      <td>1</td>\n      <td>1</td>\n      <td>0</td>\n      <td>1</td>\n      <td>1</td>\n      <td>Badlapur East</td>\n    </tr>\n  </tbody>\n</table>\n<p>6347 rows × 20 columns</p>\n</div>"
     },
     "execution_count": 42,
     "metadata": {},
     "output_type": "execute_result"
    }
   ],
   "source": [
    "df1['location'] = df1.Location.apply(lambda x: 'other' if x in location_details_less_than_10 else x)\n",
    "df1"
   ],
   "metadata": {
    "collapsed": false,
    "pycharm": {
     "name": "#%%\n"
    }
   }
  },
  {
   "cell_type": "code",
   "execution_count": 43,
   "outputs": [
    {
     "data": {
      "text/plain": "         Price  Area  No. of Bedrooms  New/Resale  Gymnasium  Lift Available  \\\n0      4850000   720                1           0          0               1   \n1      4500000   600                1           0          1               1   \n2      6700000   650                1           0          1               1   \n3      4500000   650                1           0          0               1   \n4      5000000   665                1           0          0               1   \n...        ...   ...              ...         ...        ...             ...   \n6342   2485000   700                1           1          0               0   \n6343  14500000   900                2           0          0               0   \n6344  14500000   900                2           0          0               1   \n6345   4100000  1380                3           0          0               0   \n6346   2750000   700                1           1          1               1   \n\n      Car Parking  Maintenance Staff  24x7 Security  Children  Clubhouse  \\\n0               1                  1              1         0          0   \n1               1                  1              1         0          1   \n2               1                  1              1         1          1   \n3               1                  1              1         0          0   \n4               1                  1              1         0          0   \n...           ...                ...            ...       ...        ...   \n6342            0                  0              0         0          0   \n6343            0                  0              0         0          0   \n6344            0                  0              0         0          0   \n6345            0                  0              0         0          0   \n6346            1                  0              1         1          1   \n\n      Intercom  Landscaped Gardens  Indoor Games  Gas Connection  \\\n0            0                   0             0               0   \n1            0                   0             0               0   \n2            1                   0             0               0   \n3            1                   1             0               0   \n4            1                   1             0               0   \n...        ...                 ...           ...             ...   \n6342         0                   0             0               0   \n6343         0                   0             0               0   \n6344         1                   0             0               1   \n6345         0                   0             0               0   \n6346         0                   1             1               0   \n\n      Jogging Track  Swimming Pool       location  \n0                 0              0       Kharghar  \n1                 1              1       Kharghar  \n2                 1              1       Kharghar  \n3                 0              0       Kharghar  \n4                 0              0       Kharghar  \n...             ...            ...            ...  \n6342              0              0          other  \n6343              0              0     Thane West  \n6344              0              0     Thane West  \n6345              0              0         Boisar  \n6346              1              1  Badlapur East  \n\n[6347 rows x 18 columns]",
      "text/html": "<div>\n<style scoped>\n    .dataframe tbody tr th:only-of-type {\n        vertical-align: middle;\n    }\n\n    .dataframe tbody tr th {\n        vertical-align: top;\n    }\n\n    .dataframe thead th {\n        text-align: right;\n    }\n</style>\n<table border=\"1\" class=\"dataframe\">\n  <thead>\n    <tr style=\"text-align: right;\">\n      <th></th>\n      <th>Price</th>\n      <th>Area</th>\n      <th>No. of Bedrooms</th>\n      <th>New/Resale</th>\n      <th>Gymnasium</th>\n      <th>Lift Available</th>\n      <th>Car Parking</th>\n      <th>Maintenance Staff</th>\n      <th>24x7 Security</th>\n      <th>Children</th>\n      <th>Clubhouse</th>\n      <th>Intercom</th>\n      <th>Landscaped Gardens</th>\n      <th>Indoor Games</th>\n      <th>Gas Connection</th>\n      <th>Jogging Track</th>\n      <th>Swimming Pool</th>\n      <th>location</th>\n    </tr>\n  </thead>\n  <tbody>\n    <tr>\n      <th>0</th>\n      <td>4850000</td>\n      <td>720</td>\n      <td>1</td>\n      <td>0</td>\n      <td>0</td>\n      <td>1</td>\n      <td>1</td>\n      <td>1</td>\n      <td>1</td>\n      <td>0</td>\n      <td>0</td>\n      <td>0</td>\n      <td>0</td>\n      <td>0</td>\n      <td>0</td>\n      <td>0</td>\n      <td>0</td>\n      <td>Kharghar</td>\n    </tr>\n    <tr>\n      <th>1</th>\n      <td>4500000</td>\n      <td>600</td>\n      <td>1</td>\n      <td>0</td>\n      <td>1</td>\n      <td>1</td>\n      <td>1</td>\n      <td>1</td>\n      <td>1</td>\n      <td>0</td>\n      <td>1</td>\n      <td>0</td>\n      <td>0</td>\n      <td>0</td>\n      <td>0</td>\n      <td>1</td>\n      <td>1</td>\n      <td>Kharghar</td>\n    </tr>\n    <tr>\n      <th>2</th>\n      <td>6700000</td>\n      <td>650</td>\n      <td>1</td>\n      <td>0</td>\n      <td>1</td>\n      <td>1</td>\n      <td>1</td>\n      <td>1</td>\n      <td>1</td>\n      <td>1</td>\n      <td>1</td>\n      <td>1</td>\n      <td>0</td>\n      <td>0</td>\n      <td>0</td>\n      <td>1</td>\n      <td>1</td>\n      <td>Kharghar</td>\n    </tr>\n    <tr>\n      <th>3</th>\n      <td>4500000</td>\n      <td>650</td>\n      <td>1</td>\n      <td>0</td>\n      <td>0</td>\n      <td>1</td>\n      <td>1</td>\n      <td>1</td>\n      <td>1</td>\n      <td>0</td>\n      <td>0</td>\n      <td>1</td>\n      <td>1</td>\n      <td>0</td>\n      <td>0</td>\n      <td>0</td>\n      <td>0</td>\n      <td>Kharghar</td>\n    </tr>\n    <tr>\n      <th>4</th>\n      <td>5000000</td>\n      <td>665</td>\n      <td>1</td>\n      <td>0</td>\n      <td>0</td>\n      <td>1</td>\n      <td>1</td>\n      <td>1</td>\n      <td>1</td>\n      <td>0</td>\n      <td>0</td>\n      <td>1</td>\n      <td>1</td>\n      <td>0</td>\n      <td>0</td>\n      <td>0</td>\n      <td>0</td>\n      <td>Kharghar</td>\n    </tr>\n    <tr>\n      <th>...</th>\n      <td>...</td>\n      <td>...</td>\n      <td>...</td>\n      <td>...</td>\n      <td>...</td>\n      <td>...</td>\n      <td>...</td>\n      <td>...</td>\n      <td>...</td>\n      <td>...</td>\n      <td>...</td>\n      <td>...</td>\n      <td>...</td>\n      <td>...</td>\n      <td>...</td>\n      <td>...</td>\n      <td>...</td>\n      <td>...</td>\n    </tr>\n    <tr>\n      <th>6342</th>\n      <td>2485000</td>\n      <td>700</td>\n      <td>1</td>\n      <td>1</td>\n      <td>0</td>\n      <td>0</td>\n      <td>0</td>\n      <td>0</td>\n      <td>0</td>\n      <td>0</td>\n      <td>0</td>\n      <td>0</td>\n      <td>0</td>\n      <td>0</td>\n      <td>0</td>\n      <td>0</td>\n      <td>0</td>\n      <td>other</td>\n    </tr>\n    <tr>\n      <th>6343</th>\n      <td>14500000</td>\n      <td>900</td>\n      <td>2</td>\n      <td>0</td>\n      <td>0</td>\n      <td>0</td>\n      <td>0</td>\n      <td>0</td>\n      <td>0</td>\n      <td>0</td>\n      <td>0</td>\n      <td>0</td>\n      <td>0</td>\n      <td>0</td>\n      <td>0</td>\n      <td>0</td>\n      <td>0</td>\n      <td>Thane West</td>\n    </tr>\n    <tr>\n      <th>6344</th>\n      <td>14500000</td>\n      <td>900</td>\n      <td>2</td>\n      <td>0</td>\n      <td>0</td>\n      <td>1</td>\n      <td>0</td>\n      <td>0</td>\n      <td>0</td>\n      <td>0</td>\n      <td>0</td>\n      <td>1</td>\n      <td>0</td>\n      <td>0</td>\n      <td>1</td>\n      <td>0</td>\n      <td>0</td>\n      <td>Thane West</td>\n    </tr>\n    <tr>\n      <th>6345</th>\n      <td>4100000</td>\n      <td>1380</td>\n      <td>3</td>\n      <td>0</td>\n      <td>0</td>\n      <td>0</td>\n      <td>0</td>\n      <td>0</td>\n      <td>0</td>\n      <td>0</td>\n      <td>0</td>\n      <td>0</td>\n      <td>0</td>\n      <td>0</td>\n      <td>0</td>\n      <td>0</td>\n      <td>0</td>\n      <td>Boisar</td>\n    </tr>\n    <tr>\n      <th>6346</th>\n      <td>2750000</td>\n      <td>700</td>\n      <td>1</td>\n      <td>1</td>\n      <td>1</td>\n      <td>1</td>\n      <td>1</td>\n      <td>0</td>\n      <td>1</td>\n      <td>1</td>\n      <td>1</td>\n      <td>0</td>\n      <td>1</td>\n      <td>1</td>\n      <td>0</td>\n      <td>1</td>\n      <td>1</td>\n      <td>Badlapur East</td>\n    </tr>\n  </tbody>\n</table>\n<p>6347 rows × 18 columns</p>\n</div>"
     },
     "execution_count": 43,
     "metadata": {},
     "output_type": "execute_result"
    }
   ],
   "source": [
    "df2 = df1.drop(['Unnamed: 0', 'Location'], axis='columns')\n",
    "df2"
   ],
   "metadata": {
    "collapsed": false,
    "pycharm": {
     "name": "#%%\n"
    }
   }
  },
  {
   "cell_type": "code",
   "execution_count": 44,
   "outputs": [
    {
     "data": {
      "text/plain": "         Price  Area  No. of Bedrooms  New/Resale  Gymnasium  Lift Available  \\\n0      4850000   720                1           0          0               1   \n1      4500000   600                1           0          1               1   \n2      6700000   650                1           0          1               1   \n3      4500000   650                1           0          0               1   \n4      5000000   665                1           0          0               1   \n...        ...   ...              ...         ...        ...             ...   \n6341   7000000  1020                2           1          1               1   \n6343  14500000   900                2           0          0               0   \n6344  14500000   900                2           0          0               1   \n6345   4100000  1380                3           0          0               0   \n6346   2750000   700                1           1          1               1   \n\n      Car Parking  Maintenance Staff  24x7 Security  Children  Clubhouse  \\\n0               1                  1              1         0          0   \n1               1                  1              1         0          1   \n2               1                  1              1         1          1   \n3               1                  1              1         0          0   \n4               1                  1              1         0          0   \n...           ...                ...            ...       ...        ...   \n6341            0                  0              0         1          1   \n6343            0                  0              0         0          0   \n6344            0                  0              0         0          0   \n6345            0                  0              0         0          0   \n6346            1                  0              1         1          1   \n\n      Intercom  Landscaped Gardens  Indoor Games  Gas Connection  \\\n0            0                   0             0               0   \n1            0                   0             0               0   \n2            1                   0             0               0   \n3            1                   1             0               0   \n4            1                   1             0               0   \n...        ...                 ...           ...             ...   \n6341         1                   0             0               1   \n6343         0                   0             0               0   \n6344         1                   0             0               1   \n6345         0                   0             0               0   \n6346         0                   1             1               0   \n\n      Jogging Track  Swimming Pool        location  \n0                 0              0        Kharghar  \n1                 1              1        Kharghar  \n2                 1              1        Kharghar  \n3                 0              0        Kharghar  \n4                 0              0        Kharghar  \n...             ...            ...             ...  \n6341              0              0  Mira Road East  \n6343              0              0      Thane West  \n6344              0              0      Thane West  \n6345              0              0          Boisar  \n6346              1              1   Badlapur East  \n\n[5539 rows x 18 columns]",
      "text/html": "<div>\n<style scoped>\n    .dataframe tbody tr th:only-of-type {\n        vertical-align: middle;\n    }\n\n    .dataframe tbody tr th {\n        vertical-align: top;\n    }\n\n    .dataframe thead th {\n        text-align: right;\n    }\n</style>\n<table border=\"1\" class=\"dataframe\">\n  <thead>\n    <tr style=\"text-align: right;\">\n      <th></th>\n      <th>Price</th>\n      <th>Area</th>\n      <th>No. of Bedrooms</th>\n      <th>New/Resale</th>\n      <th>Gymnasium</th>\n      <th>Lift Available</th>\n      <th>Car Parking</th>\n      <th>Maintenance Staff</th>\n      <th>24x7 Security</th>\n      <th>Children</th>\n      <th>Clubhouse</th>\n      <th>Intercom</th>\n      <th>Landscaped Gardens</th>\n      <th>Indoor Games</th>\n      <th>Gas Connection</th>\n      <th>Jogging Track</th>\n      <th>Swimming Pool</th>\n      <th>location</th>\n    </tr>\n  </thead>\n  <tbody>\n    <tr>\n      <th>0</th>\n      <td>4850000</td>\n      <td>720</td>\n      <td>1</td>\n      <td>0</td>\n      <td>0</td>\n      <td>1</td>\n      <td>1</td>\n      <td>1</td>\n      <td>1</td>\n      <td>0</td>\n      <td>0</td>\n      <td>0</td>\n      <td>0</td>\n      <td>0</td>\n      <td>0</td>\n      <td>0</td>\n      <td>0</td>\n      <td>Kharghar</td>\n    </tr>\n    <tr>\n      <th>1</th>\n      <td>4500000</td>\n      <td>600</td>\n      <td>1</td>\n      <td>0</td>\n      <td>1</td>\n      <td>1</td>\n      <td>1</td>\n      <td>1</td>\n      <td>1</td>\n      <td>0</td>\n      <td>1</td>\n      <td>0</td>\n      <td>0</td>\n      <td>0</td>\n      <td>0</td>\n      <td>1</td>\n      <td>1</td>\n      <td>Kharghar</td>\n    </tr>\n    <tr>\n      <th>2</th>\n      <td>6700000</td>\n      <td>650</td>\n      <td>1</td>\n      <td>0</td>\n      <td>1</td>\n      <td>1</td>\n      <td>1</td>\n      <td>1</td>\n      <td>1</td>\n      <td>1</td>\n      <td>1</td>\n      <td>1</td>\n      <td>0</td>\n      <td>0</td>\n      <td>0</td>\n      <td>1</td>\n      <td>1</td>\n      <td>Kharghar</td>\n    </tr>\n    <tr>\n      <th>3</th>\n      <td>4500000</td>\n      <td>650</td>\n      <td>1</td>\n      <td>0</td>\n      <td>0</td>\n      <td>1</td>\n      <td>1</td>\n      <td>1</td>\n      <td>1</td>\n      <td>0</td>\n      <td>0</td>\n      <td>1</td>\n      <td>1</td>\n      <td>0</td>\n      <td>0</td>\n      <td>0</td>\n      <td>0</td>\n      <td>Kharghar</td>\n    </tr>\n    <tr>\n      <th>4</th>\n      <td>5000000</td>\n      <td>665</td>\n      <td>1</td>\n      <td>0</td>\n      <td>0</td>\n      <td>1</td>\n      <td>1</td>\n      <td>1</td>\n      <td>1</td>\n      <td>0</td>\n      <td>0</td>\n      <td>1</td>\n      <td>1</td>\n      <td>0</td>\n      <td>0</td>\n      <td>0</td>\n      <td>0</td>\n      <td>Kharghar</td>\n    </tr>\n    <tr>\n      <th>...</th>\n      <td>...</td>\n      <td>...</td>\n      <td>...</td>\n      <td>...</td>\n      <td>...</td>\n      <td>...</td>\n      <td>...</td>\n      <td>...</td>\n      <td>...</td>\n      <td>...</td>\n      <td>...</td>\n      <td>...</td>\n      <td>...</td>\n      <td>...</td>\n      <td>...</td>\n      <td>...</td>\n      <td>...</td>\n      <td>...</td>\n    </tr>\n    <tr>\n      <th>6341</th>\n      <td>7000000</td>\n      <td>1020</td>\n      <td>2</td>\n      <td>1</td>\n      <td>1</td>\n      <td>1</td>\n      <td>0</td>\n      <td>0</td>\n      <td>0</td>\n      <td>1</td>\n      <td>1</td>\n      <td>1</td>\n      <td>0</td>\n      <td>0</td>\n      <td>1</td>\n      <td>0</td>\n      <td>0</td>\n      <td>Mira Road East</td>\n    </tr>\n    <tr>\n      <th>6343</th>\n      <td>14500000</td>\n      <td>900</td>\n      <td>2</td>\n      <td>0</td>\n      <td>0</td>\n      <td>0</td>\n      <td>0</td>\n      <td>0</td>\n      <td>0</td>\n      <td>0</td>\n      <td>0</td>\n      <td>0</td>\n      <td>0</td>\n      <td>0</td>\n      <td>0</td>\n      <td>0</td>\n      <td>0</td>\n      <td>Thane West</td>\n    </tr>\n    <tr>\n      <th>6344</th>\n      <td>14500000</td>\n      <td>900</td>\n      <td>2</td>\n      <td>0</td>\n      <td>0</td>\n      <td>1</td>\n      <td>0</td>\n      <td>0</td>\n      <td>0</td>\n      <td>0</td>\n      <td>0</td>\n      <td>1</td>\n      <td>0</td>\n      <td>0</td>\n      <td>1</td>\n      <td>0</td>\n      <td>0</td>\n      <td>Thane West</td>\n    </tr>\n    <tr>\n      <th>6345</th>\n      <td>4100000</td>\n      <td>1380</td>\n      <td>3</td>\n      <td>0</td>\n      <td>0</td>\n      <td>0</td>\n      <td>0</td>\n      <td>0</td>\n      <td>0</td>\n      <td>0</td>\n      <td>0</td>\n      <td>0</td>\n      <td>0</td>\n      <td>0</td>\n      <td>0</td>\n      <td>0</td>\n      <td>0</td>\n      <td>Boisar</td>\n    </tr>\n    <tr>\n      <th>6346</th>\n      <td>2750000</td>\n      <td>700</td>\n      <td>1</td>\n      <td>1</td>\n      <td>1</td>\n      <td>1</td>\n      <td>1</td>\n      <td>0</td>\n      <td>1</td>\n      <td>1</td>\n      <td>1</td>\n      <td>0</td>\n      <td>1</td>\n      <td>1</td>\n      <td>0</td>\n      <td>1</td>\n      <td>1</td>\n      <td>Badlapur East</td>\n    </tr>\n  </tbody>\n</table>\n<p>5539 rows × 18 columns</p>\n</div>"
     },
     "execution_count": 44,
     "metadata": {},
     "output_type": "execute_result"
    }
   ],
   "source": [
    "df3 = df2[~(df2.location == 'other')]\n",
    "df3"
   ],
   "metadata": {
    "collapsed": false,
    "pycharm": {
     "name": "#%%\n"
    }
   }
  },
  {
   "cell_type": "code",
   "execution_count": 45,
   "outputs": [
    {
     "data": {
      "text/plain": "         Price  Area  No. of Bedrooms        location\n0      4850000   720                1        Kharghar\n1      4500000   600                1        Kharghar\n2      6700000   650                1        Kharghar\n3      4500000   650                1        Kharghar\n4      5000000   665                1        Kharghar\n...        ...   ...              ...             ...\n6341   7000000  1020                2  Mira Road East\n6343  14500000   900                2      Thane West\n6344  14500000   900                2      Thane West\n6345   4100000  1380                3          Boisar\n6346   2750000   700                1   Badlapur East\n\n[5539 rows x 4 columns]",
      "text/html": "<div>\n<style scoped>\n    .dataframe tbody tr th:only-of-type {\n        vertical-align: middle;\n    }\n\n    .dataframe tbody tr th {\n        vertical-align: top;\n    }\n\n    .dataframe thead th {\n        text-align: right;\n    }\n</style>\n<table border=\"1\" class=\"dataframe\">\n  <thead>\n    <tr style=\"text-align: right;\">\n      <th></th>\n      <th>Price</th>\n      <th>Area</th>\n      <th>No. of Bedrooms</th>\n      <th>location</th>\n    </tr>\n  </thead>\n  <tbody>\n    <tr>\n      <th>0</th>\n      <td>4850000</td>\n      <td>720</td>\n      <td>1</td>\n      <td>Kharghar</td>\n    </tr>\n    <tr>\n      <th>1</th>\n      <td>4500000</td>\n      <td>600</td>\n      <td>1</td>\n      <td>Kharghar</td>\n    </tr>\n    <tr>\n      <th>2</th>\n      <td>6700000</td>\n      <td>650</td>\n      <td>1</td>\n      <td>Kharghar</td>\n    </tr>\n    <tr>\n      <th>3</th>\n      <td>4500000</td>\n      <td>650</td>\n      <td>1</td>\n      <td>Kharghar</td>\n    </tr>\n    <tr>\n      <th>4</th>\n      <td>5000000</td>\n      <td>665</td>\n      <td>1</td>\n      <td>Kharghar</td>\n    </tr>\n    <tr>\n      <th>...</th>\n      <td>...</td>\n      <td>...</td>\n      <td>...</td>\n      <td>...</td>\n    </tr>\n    <tr>\n      <th>6341</th>\n      <td>7000000</td>\n      <td>1020</td>\n      <td>2</td>\n      <td>Mira Road East</td>\n    </tr>\n    <tr>\n      <th>6343</th>\n      <td>14500000</td>\n      <td>900</td>\n      <td>2</td>\n      <td>Thane West</td>\n    </tr>\n    <tr>\n      <th>6344</th>\n      <td>14500000</td>\n      <td>900</td>\n      <td>2</td>\n      <td>Thane West</td>\n    </tr>\n    <tr>\n      <th>6345</th>\n      <td>4100000</td>\n      <td>1380</td>\n      <td>3</td>\n      <td>Boisar</td>\n    </tr>\n    <tr>\n      <th>6346</th>\n      <td>2750000</td>\n      <td>700</td>\n      <td>1</td>\n      <td>Badlapur East</td>\n    </tr>\n  </tbody>\n</table>\n<p>5539 rows × 4 columns</p>\n</div>"
     },
     "execution_count": 45,
     "metadata": {},
     "output_type": "execute_result"
    }
   ],
   "source": [
    "df4 = df3.drop(['Lift Available','Car Parking','Maintenance Staff','24x7 Security','Clubhouse','Intercom','Landscaped Gardens','Indoor Games','Gas Connection','Jogging Track', 'Swimming Pool', 'Children', 'New/Resale', 'Gymnasium'], axis='columns')\n",
    "df4"
   ],
   "metadata": {
    "collapsed": false,
    "pycharm": {
     "name": "#%%\n"
    }
   }
  },
  {
   "cell_type": "code",
   "execution_count": 46,
   "outputs": [
    {
     "data": {
      "text/plain": "(5539, 4)"
     },
     "execution_count": 46,
     "metadata": {},
     "output_type": "execute_result"
    }
   ],
   "source": [
    "df4.shape"
   ],
   "metadata": {
    "collapsed": false,
    "pycharm": {
     "name": "#%%\n"
    }
   }
  },
  {
   "cell_type": "code",
   "execution_count": 47,
   "outputs": [
    {
     "data": {
      "text/plain": "         Price  Area  No. of Bedrooms        location\n239   11200000   573                2            Ulwe\n503    4000000   568                2        Bhiwandi\n545    6600000   550                2           Thane\n546    6900000   565                2           Thane\n547    6800000   547                2           Thane\n...        ...   ...              ...             ...\n6148   9700000   645                3  Mira Road East\n6184  25800000   890                3   Borivali East\n6186  13000000   500                2   Borivali West\n6212   4800000   250                1    Andheri East\n6319   5500000   580                2        Kharghar\n\n[153 rows x 4 columns]",
      "text/html": "<div>\n<style scoped>\n    .dataframe tbody tr th:only-of-type {\n        vertical-align: middle;\n    }\n\n    .dataframe tbody tr th {\n        vertical-align: top;\n    }\n\n    .dataframe thead th {\n        text-align: right;\n    }\n</style>\n<table border=\"1\" class=\"dataframe\">\n  <thead>\n    <tr style=\"text-align: right;\">\n      <th></th>\n      <th>Price</th>\n      <th>Area</th>\n      <th>No. of Bedrooms</th>\n      <th>location</th>\n    </tr>\n  </thead>\n  <tbody>\n    <tr>\n      <th>239</th>\n      <td>11200000</td>\n      <td>573</td>\n      <td>2</td>\n      <td>Ulwe</td>\n    </tr>\n    <tr>\n      <th>503</th>\n      <td>4000000</td>\n      <td>568</td>\n      <td>2</td>\n      <td>Bhiwandi</td>\n    </tr>\n    <tr>\n      <th>545</th>\n      <td>6600000</td>\n      <td>550</td>\n      <td>2</td>\n      <td>Thane</td>\n    </tr>\n    <tr>\n      <th>546</th>\n      <td>6900000</td>\n      <td>565</td>\n      <td>2</td>\n      <td>Thane</td>\n    </tr>\n    <tr>\n      <th>547</th>\n      <td>6800000</td>\n      <td>547</td>\n      <td>2</td>\n      <td>Thane</td>\n    </tr>\n    <tr>\n      <th>...</th>\n      <td>...</td>\n      <td>...</td>\n      <td>...</td>\n      <td>...</td>\n    </tr>\n    <tr>\n      <th>6148</th>\n      <td>9700000</td>\n      <td>645</td>\n      <td>3</td>\n      <td>Mira Road East</td>\n    </tr>\n    <tr>\n      <th>6184</th>\n      <td>25800000</td>\n      <td>890</td>\n      <td>3</td>\n      <td>Borivali East</td>\n    </tr>\n    <tr>\n      <th>6186</th>\n      <td>13000000</td>\n      <td>500</td>\n      <td>2</td>\n      <td>Borivali West</td>\n    </tr>\n    <tr>\n      <th>6212</th>\n      <td>4800000</td>\n      <td>250</td>\n      <td>1</td>\n      <td>Andheri East</td>\n    </tr>\n    <tr>\n      <th>6319</th>\n      <td>5500000</td>\n      <td>580</td>\n      <td>2</td>\n      <td>Kharghar</td>\n    </tr>\n  </tbody>\n</table>\n<p>153 rows × 4 columns</p>\n</div>"
     },
     "execution_count": 47,
     "metadata": {},
     "output_type": "execute_result"
    }
   ],
   "source": [
    "df4[df4['Area'] / df4['No. of Bedrooms'] < 300]"
   ],
   "metadata": {
    "collapsed": false,
    "pycharm": {
     "name": "#%%\n"
    }
   }
  },
  {
   "cell_type": "code",
   "execution_count": 48,
   "outputs": [
    {
     "data": {
      "text/plain": "         Price  Area  No. of Bedrooms        location\n0      4850000   720                1        Kharghar\n1      4500000   600                1        Kharghar\n2      6700000   650                1        Kharghar\n3      4500000   650                1        Kharghar\n4      5000000   665                1        Kharghar\n...        ...   ...              ...             ...\n6341   7000000  1020                2  Mira Road East\n6343  14500000   900                2      Thane West\n6344  14500000   900                2      Thane West\n6345   4100000  1380                3          Boisar\n6346   2750000   700                1   Badlapur East\n\n[5386 rows x 4 columns]",
      "text/html": "<div>\n<style scoped>\n    .dataframe tbody tr th:only-of-type {\n        vertical-align: middle;\n    }\n\n    .dataframe tbody tr th {\n        vertical-align: top;\n    }\n\n    .dataframe thead th {\n        text-align: right;\n    }\n</style>\n<table border=\"1\" class=\"dataframe\">\n  <thead>\n    <tr style=\"text-align: right;\">\n      <th></th>\n      <th>Price</th>\n      <th>Area</th>\n      <th>No. of Bedrooms</th>\n      <th>location</th>\n    </tr>\n  </thead>\n  <tbody>\n    <tr>\n      <th>0</th>\n      <td>4850000</td>\n      <td>720</td>\n      <td>1</td>\n      <td>Kharghar</td>\n    </tr>\n    <tr>\n      <th>1</th>\n      <td>4500000</td>\n      <td>600</td>\n      <td>1</td>\n      <td>Kharghar</td>\n    </tr>\n    <tr>\n      <th>2</th>\n      <td>6700000</td>\n      <td>650</td>\n      <td>1</td>\n      <td>Kharghar</td>\n    </tr>\n    <tr>\n      <th>3</th>\n      <td>4500000</td>\n      <td>650</td>\n      <td>1</td>\n      <td>Kharghar</td>\n    </tr>\n    <tr>\n      <th>4</th>\n      <td>5000000</td>\n      <td>665</td>\n      <td>1</td>\n      <td>Kharghar</td>\n    </tr>\n    <tr>\n      <th>...</th>\n      <td>...</td>\n      <td>...</td>\n      <td>...</td>\n      <td>...</td>\n    </tr>\n    <tr>\n      <th>6341</th>\n      <td>7000000</td>\n      <td>1020</td>\n      <td>2</td>\n      <td>Mira Road East</td>\n    </tr>\n    <tr>\n      <th>6343</th>\n      <td>14500000</td>\n      <td>900</td>\n      <td>2</td>\n      <td>Thane West</td>\n    </tr>\n    <tr>\n      <th>6344</th>\n      <td>14500000</td>\n      <td>900</td>\n      <td>2</td>\n      <td>Thane West</td>\n    </tr>\n    <tr>\n      <th>6345</th>\n      <td>4100000</td>\n      <td>1380</td>\n      <td>3</td>\n      <td>Boisar</td>\n    </tr>\n    <tr>\n      <th>6346</th>\n      <td>2750000</td>\n      <td>700</td>\n      <td>1</td>\n      <td>Badlapur East</td>\n    </tr>\n  </tbody>\n</table>\n<p>5386 rows × 4 columns</p>\n</div>"
     },
     "execution_count": 48,
     "metadata": {},
     "output_type": "execute_result"
    }
   ],
   "source": [
    "df5 = df4.copy()\n",
    "df5 = df4[~(df4['Area'] / df4['No. of Bedrooms'] < 300)]\n",
    "df5"
   ],
   "metadata": {
    "collapsed": false,
    "pycharm": {
     "name": "#%%\n"
    }
   }
  },
  {
   "cell_type": "code",
   "execution_count": 49,
   "outputs": [
    {
     "name": "stderr",
     "output_type": "stream",
     "text": [
      "C:\\Users\\VETLA PAVAN KALYAN\\AppData\\Local\\Temp\\ipykernel_3804\\1661505327.py:1: SettingWithCopyWarning: \n",
      "A value is trying to be set on a copy of a slice from a DataFrame.\n",
      "Try using .loc[row_indexer,col_indexer] = value instead\n",
      "\n",
      "See the caveats in the documentation: https://pandas.pydata.org/pandas-docs/stable/user_guide/indexing.html#returning-a-view-versus-a-copy\n",
      "  df5['price_per_squ_area'] = df5['Price'] / df5['Area']\n"
     ]
    }
   ],
   "source": [
    "df5['price_per_squ_area'] = df5['Price'] / df5['Area']\n",
    "df5\n",
    "df6 = df5"
   ],
   "metadata": {
    "collapsed": false,
    "pycharm": {
     "name": "#%%\n"
    }
   }
  },
  {
   "cell_type": "code",
   "execution_count": 50,
   "outputs": [
    {
     "data": {
      "text/plain": "(5386, 5)"
     },
     "execution_count": 50,
     "metadata": {},
     "output_type": "execute_result"
    }
   ],
   "source": [
    "df5.shape"
   ],
   "metadata": {
    "collapsed": false,
    "pycharm": {
     "name": "#%%\n"
    }
   }
  },
  {
   "cell_type": "code",
   "execution_count": 51,
   "outputs": [
    {
     "data": {
      "text/plain": "count      5386.000000\nmean      13133.176305\nstd        8931.795952\nmin        1597.444089\n25%        7107.200423\n50%       10088.523306\n75%       16818.181818\nmax      109950.522265\nName: price_per_squ_area, dtype: float64"
     },
     "execution_count": 51,
     "metadata": {},
     "output_type": "execute_result"
    }
   ],
   "source": [
    "df6['price_per_squ_area'].describe()"
   ],
   "metadata": {
    "collapsed": false,
    "pycharm": {
     "name": "#%%\n"
    }
   }
  },
  {
   "cell_type": "code",
   "execution_count": 52,
   "outputs": [],
   "source": [
    "def remove_pps_outliers(df):\n",
    "    df_out = pd.DataFrame()\n",
    "    for key, data in df.groupby('location'):\n",
    "        m = np.mean(data.price_per_squ_area)\n",
    "        st = np.std(data.price_per_squ_area)\n",
    "        st_df = data[(data.price_per_squ_area > (m - st)) & (data.price_per_squ_area <= (m + st))]\n",
    "        df_out = pd.concat([df_out, st_df], ignore_index=True)\n",
    "    return df_out"
   ],
   "metadata": {
    "collapsed": false,
    "pycharm": {
     "name": "#%%\n"
    }
   }
  },
  {
   "cell_type": "code",
   "execution_count": 53,
   "outputs": [
    {
     "data": {
      "text/plain": "         Price  Area  No. of Bedrooms location  price_per_squ_area\n0     14900000  1245                2   Airoli        11967.871486\n1     14000000  1183                2   Airoli        11834.319527\n2     14800000  1245                2   Airoli        11887.550201\n3     11100000  1050                2   Airoli        10571.428571\n4      7500000   600                1   Airoli        12500.000000\n...        ...   ...              ...      ...                 ...\n4102   2116000   630                1   mumbai         3358.730159\n4103   6000000  2700                4   mumbai         2222.222222\n4104  10800000   653                1   mumbai        16539.050536\n4105   4500000   653                1   mumbai         6891.271057\n4106  11000000  1100                2   mumbai        10000.000000\n\n[4107 rows x 5 columns]",
      "text/html": "<div>\n<style scoped>\n    .dataframe tbody tr th:only-of-type {\n        vertical-align: middle;\n    }\n\n    .dataframe tbody tr th {\n        vertical-align: top;\n    }\n\n    .dataframe thead th {\n        text-align: right;\n    }\n</style>\n<table border=\"1\" class=\"dataframe\">\n  <thead>\n    <tr style=\"text-align: right;\">\n      <th></th>\n      <th>Price</th>\n      <th>Area</th>\n      <th>No. of Bedrooms</th>\n      <th>location</th>\n      <th>price_per_squ_area</th>\n    </tr>\n  </thead>\n  <tbody>\n    <tr>\n      <th>0</th>\n      <td>14900000</td>\n      <td>1245</td>\n      <td>2</td>\n      <td>Airoli</td>\n      <td>11967.871486</td>\n    </tr>\n    <tr>\n      <th>1</th>\n      <td>14000000</td>\n      <td>1183</td>\n      <td>2</td>\n      <td>Airoli</td>\n      <td>11834.319527</td>\n    </tr>\n    <tr>\n      <th>2</th>\n      <td>14800000</td>\n      <td>1245</td>\n      <td>2</td>\n      <td>Airoli</td>\n      <td>11887.550201</td>\n    </tr>\n    <tr>\n      <th>3</th>\n      <td>11100000</td>\n      <td>1050</td>\n      <td>2</td>\n      <td>Airoli</td>\n      <td>10571.428571</td>\n    </tr>\n    <tr>\n      <th>4</th>\n      <td>7500000</td>\n      <td>600</td>\n      <td>1</td>\n      <td>Airoli</td>\n      <td>12500.000000</td>\n    </tr>\n    <tr>\n      <th>...</th>\n      <td>...</td>\n      <td>...</td>\n      <td>...</td>\n      <td>...</td>\n      <td>...</td>\n    </tr>\n    <tr>\n      <th>4102</th>\n      <td>2116000</td>\n      <td>630</td>\n      <td>1</td>\n      <td>mumbai</td>\n      <td>3358.730159</td>\n    </tr>\n    <tr>\n      <th>4103</th>\n      <td>6000000</td>\n      <td>2700</td>\n      <td>4</td>\n      <td>mumbai</td>\n      <td>2222.222222</td>\n    </tr>\n    <tr>\n      <th>4104</th>\n      <td>10800000</td>\n      <td>653</td>\n      <td>1</td>\n      <td>mumbai</td>\n      <td>16539.050536</td>\n    </tr>\n    <tr>\n      <th>4105</th>\n      <td>4500000</td>\n      <td>653</td>\n      <td>1</td>\n      <td>mumbai</td>\n      <td>6891.271057</td>\n    </tr>\n    <tr>\n      <th>4106</th>\n      <td>11000000</td>\n      <td>1100</td>\n      <td>2</td>\n      <td>mumbai</td>\n      <td>10000.000000</td>\n    </tr>\n  </tbody>\n</table>\n<p>4107 rows × 5 columns</p>\n</div>"
     },
     "execution_count": 53,
     "metadata": {},
     "output_type": "execute_result"
    }
   ],
   "source": [
    "df7 = remove_pps_outliers(df6)\n",
    "df7"
   ],
   "metadata": {
    "collapsed": false,
    "pycharm": {
     "name": "#%%\n"
    }
   }
  },
  {
   "cell_type": "code",
   "execution_count": 54,
   "outputs": [],
   "source": [
    "df7.rename(columns={'No. of Bedrooms': 'bhk','price_per_squ_area': 'pps'}, inplace=True)"
   ],
   "metadata": {
    "collapsed": false,
    "pycharm": {
     "name": "#%%\n"
    }
   }
  },
  {
   "cell_type": "code",
   "execution_count": 55,
   "outputs": [
    {
     "data": {
      "text/plain": "         Price  Area  bhk location           pps\n0     14900000  1245    2   Airoli  11967.871486\n1     14000000  1183    2   Airoli  11834.319527\n2     14800000  1245    2   Airoli  11887.550201\n3     11100000  1050    2   Airoli  10571.428571\n4      7500000   600    1   Airoli  12500.000000\n...        ...   ...  ...      ...           ...\n4102   2116000   630    1   mumbai   3358.730159\n4103   6000000  2700    4   mumbai   2222.222222\n4104  10800000   653    1   mumbai  16539.050536\n4105   4500000   653    1   mumbai   6891.271057\n4106  11000000  1100    2   mumbai  10000.000000\n\n[4107 rows x 5 columns]",
      "text/html": "<div>\n<style scoped>\n    .dataframe tbody tr th:only-of-type {\n        vertical-align: middle;\n    }\n\n    .dataframe tbody tr th {\n        vertical-align: top;\n    }\n\n    .dataframe thead th {\n        text-align: right;\n    }\n</style>\n<table border=\"1\" class=\"dataframe\">\n  <thead>\n    <tr style=\"text-align: right;\">\n      <th></th>\n      <th>Price</th>\n      <th>Area</th>\n      <th>bhk</th>\n      <th>location</th>\n      <th>pps</th>\n    </tr>\n  </thead>\n  <tbody>\n    <tr>\n      <th>0</th>\n      <td>14900000</td>\n      <td>1245</td>\n      <td>2</td>\n      <td>Airoli</td>\n      <td>11967.871486</td>\n    </tr>\n    <tr>\n      <th>1</th>\n      <td>14000000</td>\n      <td>1183</td>\n      <td>2</td>\n      <td>Airoli</td>\n      <td>11834.319527</td>\n    </tr>\n    <tr>\n      <th>2</th>\n      <td>14800000</td>\n      <td>1245</td>\n      <td>2</td>\n      <td>Airoli</td>\n      <td>11887.550201</td>\n    </tr>\n    <tr>\n      <th>3</th>\n      <td>11100000</td>\n      <td>1050</td>\n      <td>2</td>\n      <td>Airoli</td>\n      <td>10571.428571</td>\n    </tr>\n    <tr>\n      <th>4</th>\n      <td>7500000</td>\n      <td>600</td>\n      <td>1</td>\n      <td>Airoli</td>\n      <td>12500.000000</td>\n    </tr>\n    <tr>\n      <th>...</th>\n      <td>...</td>\n      <td>...</td>\n      <td>...</td>\n      <td>...</td>\n      <td>...</td>\n    </tr>\n    <tr>\n      <th>4102</th>\n      <td>2116000</td>\n      <td>630</td>\n      <td>1</td>\n      <td>mumbai</td>\n      <td>3358.730159</td>\n    </tr>\n    <tr>\n      <th>4103</th>\n      <td>6000000</td>\n      <td>2700</td>\n      <td>4</td>\n      <td>mumbai</td>\n      <td>2222.222222</td>\n    </tr>\n    <tr>\n      <th>4104</th>\n      <td>10800000</td>\n      <td>653</td>\n      <td>1</td>\n      <td>mumbai</td>\n      <td>16539.050536</td>\n    </tr>\n    <tr>\n      <th>4105</th>\n      <td>4500000</td>\n      <td>653</td>\n      <td>1</td>\n      <td>mumbai</td>\n      <td>6891.271057</td>\n    </tr>\n    <tr>\n      <th>4106</th>\n      <td>11000000</td>\n      <td>1100</td>\n      <td>2</td>\n      <td>mumbai</td>\n      <td>10000.000000</td>\n    </tr>\n  </tbody>\n</table>\n<p>4107 rows × 5 columns</p>\n</div>"
     },
     "execution_count": 55,
     "metadata": {},
     "output_type": "execute_result"
    }
   ],
   "source": [
    "df7"
   ],
   "metadata": {
    "collapsed": false,
    "pycharm": {
     "name": "#%%\n"
    }
   }
  },
  {
   "cell_type": "code",
   "execution_count": 56,
   "outputs": [
    {
     "data": {
      "text/plain": "array([2, 1, 3, 4, 6, 5], dtype=int64)"
     },
     "execution_count": 56,
     "metadata": {},
     "output_type": "execute_result"
    }
   ],
   "source": [
    "df7.bhk.unique()"
   ],
   "metadata": {
    "collapsed": false,
    "pycharm": {
     "name": "#%%\n"
    }
   }
  },
  {
   "cell_type": "code",
   "execution_count": 57,
   "outputs": [
    {
     "data": {
      "text/plain": "Text(0, 0.5, 'Count')"
     },
     "execution_count": 57,
     "metadata": {},
     "output_type": "execute_result"
    },
    {
     "data": {
      "text/plain": "<Figure size 1440x720 with 1 Axes>",
      "image/png": "[encoded data removed]"
     },
     "metadata": {
      "needs_background": "light"
     },
     "output_type": "display_data"
    }
   ],
   "source": [
    "matplotlib.rcParams['figure.figsize'] = (20, 10)\n",
    "plt.hist(df7.bhk, rwidth=0.8)\n",
    "plt.xlabel('No. of bedrooms')\n",
    "plt.ylabel('Count')"
   ],
   "metadata": {
    "collapsed": false,
    "pycharm": {
     "name": "#%%\n"
    }
   }
  },
  {
   "cell_type": "code",
   "execution_count": 58,
   "outputs": [],
   "source": [
    "def remove_area_outliers(df):\n",
    "    df_out = pd.DataFrame()\n",
    "    for key, data in df.groupby('location'):\n",
    "        m = np.mean(data.Area)\n",
    "        st = np.std(data.Area)\n",
    "        st_df = data[(data.Area > (m - st)) & (data.Area <= (m + st))]\n",
    "        df_out = pd.concat([df_out, st_df], ignore_index=True)\n",
    "    return df_out"
   ],
   "metadata": {
    "collapsed": false,
    "pycharm": {
     "name": "#%%\n"
    }
   }
  },
  {
   "cell_type": "code",
   "execution_count": 59,
   "outputs": [
    {
     "data": {
      "text/plain": "         Price  Area  bhk location           pps\n0      7500000   600    1   Airoli  12500.000000\n1      7500000   600    1   Airoli  12500.000000\n2      7600000   650    1   Airoli  11692.307692\n3      6500000   650    1   Airoli  10000.000000\n4      9500000   780    1   Airoli  12179.487179\n...        ...   ...  ...      ...           ...\n3109   2021000   600    1   mumbai   3368.333333\n3110   2116000   630    1   mumbai   3358.730159\n3111  10800000   653    1   mumbai  16539.050536\n3112   4500000   653    1   mumbai   6891.271057\n3113  11000000  1100    2   mumbai  10000.000000\n\n[3114 rows x 5 columns]",
      "text/html": "<div>\n<style scoped>\n    .dataframe tbody tr th:only-of-type {\n        vertical-align: middle;\n    }\n\n    .dataframe tbody tr th {\n        vertical-align: top;\n    }\n\n    .dataframe thead th {\n        text-align: right;\n    }\n</style>\n<table border=\"1\" class=\"dataframe\">\n  <thead>\n    <tr style=\"text-align: right;\">\n      <th></th>\n      <th>Price</th>\n      <th>Area</th>\n      <th>bhk</th>\n      <th>location</th>\n      <th>pps</th>\n    </tr>\n  </thead>\n  <tbody>\n    <tr>\n      <th>0</th>\n      <td>7500000</td>\n      <td>600</td>\n      <td>1</td>\n      <td>Airoli</td>\n      <td>12500.000000</td>\n    </tr>\n    <tr>\n      <th>1</th>\n      <td>7500000</td>\n      <td>600</td>\n      <td>1</td>\n      <td>Airoli</td>\n      <td>12500.000000</td>\n    </tr>\n    <tr>\n      <th>2</th>\n      <td>7600000</td>\n      <td>650</td>\n      <td>1</td>\n      <td>Airoli</td>\n      <td>11692.307692</td>\n    </tr>\n    <tr>\n      <th>3</th>\n      <td>6500000</td>\n      <td>650</td>\n      <td>1</td>\n      <td>Airoli</td>\n      <td>10000.000000</td>\n    </tr>\n    <tr>\n      <th>4</th>\n      <td>9500000</td>\n      <td>780</td>\n      <td>1</td>\n      <td>Airoli</td>\n      <td>12179.487179</td>\n    </tr>\n    <tr>\n      <th>...</th>\n      <td>...</td>\n      <td>...</td>\n      <td>...</td>\n      <td>...</td>\n      <td>...</td>\n    </tr>\n    <tr>\n      <th>3109</th>\n      <td>2021000</td>\n      <td>600</td>\n      <td>1</td>\n      <td>mumbai</td>\n      <td>3368.333333</td>\n    </tr>\n    <tr>\n      <th>3110</th>\n      <td>2116000</td>\n      <td>630</td>\n      <td>1</td>\n      <td>mumbai</td>\n      <td>3358.730159</td>\n    </tr>\n    <tr>\n      <th>3111</th>\n      <td>10800000</td>\n      <td>653</td>\n      <td>1</td>\n      <td>mumbai</td>\n      <td>16539.050536</td>\n    </tr>\n    <tr>\n      <th>3112</th>\n      <td>4500000</td>\n      <td>653</td>\n      <td>1</td>\n      <td>mumbai</td>\n      <td>6891.271057</td>\n    </tr>\n    <tr>\n      <th>3113</th>\n      <td>11000000</td>\n      <td>1100</td>\n      <td>2</td>\n      <td>mumbai</td>\n      <td>10000.000000</td>\n    </tr>\n  </tbody>\n</table>\n<p>3114 rows × 5 columns</p>\n</div>"
     },
     "execution_count": 59,
     "metadata": {},
     "output_type": "execute_result"
    }
   ],
   "source": [
    "df8 = remove_area_outliers(df7)\n",
    "df8"
   ],
   "metadata": {
    "collapsed": false,
    "pycharm": {
     "name": "#%%\n"
    }
   }
  },
  {
   "cell_type": "code",
   "execution_count": 60,
   "outputs": [
    {
     "data": {
      "text/plain": "         Price  Area  bhk location\n0      7500000   600    1   Airoli\n1      7500000   600    1   Airoli\n2      7600000   650    1   Airoli\n3      6500000   650    1   Airoli\n4      9500000   780    1   Airoli\n...        ...   ...  ...      ...\n3109   2021000   600    1   mumbai\n3110   2116000   630    1   mumbai\n3111  10800000   653    1   mumbai\n3112   4500000   653    1   mumbai\n3113  11000000  1100    2   mumbai\n\n[3114 rows x 4 columns]",
      "text/html": "<div>\n<style scoped>\n    .dataframe tbody tr th:only-of-type {\n        vertical-align: middle;\n    }\n\n    .dataframe tbody tr th {\n        vertical-align: top;\n    }\n\n    .dataframe thead th {\n        text-align: right;\n    }\n</style>\n<table border=\"1\" class=\"dataframe\">\n  <thead>\n    <tr style=\"text-align: right;\">\n      <th></th>\n      <th>Price</th>\n      <th>Area</th>\n      <th>bhk</th>\n      <th>location</th>\n    </tr>\n  </thead>\n  <tbody>\n    <tr>\n      <th>0</th>\n      <td>7500000</td>\n      <td>600</td>\n      <td>1</td>\n      <td>Airoli</td>\n    </tr>\n    <tr>\n      <th>1</th>\n      <td>7500000</td>\n      <td>600</td>\n      <td>1</td>\n      <td>Airoli</td>\n    </tr>\n    <tr>\n      <th>2</th>\n      <td>7600000</td>\n      <td>650</td>\n      <td>1</td>\n      <td>Airoli</td>\n    </tr>\n    <tr>\n      <th>3</th>\n      <td>6500000</td>\n      <td>650</td>\n      <td>1</td>\n      <td>Airoli</td>\n    </tr>\n    <tr>\n      <th>4</th>\n      <td>9500000</td>\n      <td>780</td>\n      <td>1</td>\n      <td>Airoli</td>\n    </tr>\n    <tr>\n      <th>...</th>\n      <td>...</td>\n      <td>...</td>\n      <td>...</td>\n      <td>...</td>\n    </tr>\n    <tr>\n      <th>3109</th>\n      <td>2021000</td>\n      <td>600</td>\n      <td>1</td>\n      <td>mumbai</td>\n    </tr>\n    <tr>\n      <th>3110</th>\n      <td>2116000</td>\n      <td>630</td>\n      <td>1</td>\n      <td>mumbai</td>\n    </tr>\n    <tr>\n      <th>3111</th>\n      <td>10800000</td>\n      <td>653</td>\n      <td>1</td>\n      <td>mumbai</td>\n    </tr>\n    <tr>\n      <th>3112</th>\n      <td>4500000</td>\n      <td>653</td>\n      <td>1</td>\n      <td>mumbai</td>\n    </tr>\n    <tr>\n      <th>3113</th>\n      <td>11000000</td>\n      <td>1100</td>\n      <td>2</td>\n      <td>mumbai</td>\n    </tr>\n  </tbody>\n</table>\n<p>3114 rows × 4 columns</p>\n</div>"
     },
     "execution_count": 60,
     "metadata": {},
     "output_type": "execute_result"
    }
   ],
   "source": [
    "df9 = df8.drop('pps', axis='columns')\n",
    "df9"
   ],
   "metadata": {
    "collapsed": false,
    "pycharm": {
     "name": "#%%\n"
    }
   }
  },
  {
   "cell_type": "code",
   "execution_count": 61,
   "outputs": [
    {
     "data": {
      "text/plain": "      Airoli  Ambernath East  Ambernath West  Andheri  Andheri East  \\\n0          1               0               0        0             0   \n1          1               0               0        0             0   \n2          1               0               0        0             0   \n3          1               0               0        0             0   \n4          1               0               0        0             0   \n...      ...             ...             ...      ...           ...   \n3109       0               0               0        0             0   \n3110       0               0               0        0             0   \n3111       0               0               0        0             0   \n3112       0               0               0        0             0   \n3113       0               0               0        0             0   \n\n      Andheri West  Badlapur East  Bandra East  Bandra West  Belapur  ...  \\\n0                0              0            0            0        0  ...   \n1                0              0            0            0        0  ...   \n2                0              0            0            0        0  ...   \n3                0              0            0            0        0  ...   \n4                0              0            0            0        0  ...   \n...            ...            ...          ...          ...      ...  ...   \n3109             0              0            0            0        0  ...   \n3110             0              0            0            0        0  ...   \n3111             0              0            0            0        0  ...   \n3112             0              0            0            0        0  ...   \n3113             0              0            0            0        0  ...   \n\n      Vashi  Ville Parle East  Virar  Virar East  Virar West  Wadala  \\\n0         0                 0      0           0           0       0   \n1         0                 0      0           0           0       0   \n2         0                 0      0           0           0       0   \n3         0                 0      0           0           0       0   \n4         0                 0      0           0           0       0   \n...     ...               ...    ...         ...         ...     ...   \n3109      0                 0      0           0           0       0   \n3110      0                 0      0           0           0       0   \n3111      0                 0      0           0           0       0   \n3112      0                 0      0           0           0       0   \n3113      0                 0      0           0           0       0   \n\n      Wadala East Wadala  Worli  matunga east  mumbai  \n0                      0      0             0       0  \n1                      0      0             0       0  \n2                      0      0             0       0  \n3                      0      0             0       0  \n4                      0      0             0       0  \n...                  ...    ...           ...     ...  \n3109                   0      0             0       1  \n3110                   0      0             0       1  \n3111                   0      0             0       1  \n3112                   0      0             0       1  \n3113                   0      0             0       1  \n\n[3114 rows x 89 columns]",
      "text/html": "<div>\n<style scoped>\n    .dataframe tbody tr th:only-of-type {\n        vertical-align: middle;\n    }\n\n    .dataframe tbody tr th {\n        vertical-align: top;\n    }\n\n    .dataframe thead th {\n        text-align: right;\n    }\n</style>\n<table border=\"1\" class=\"dataframe\">\n  <thead>\n    <tr style=\"text-align: right;\">\n      <th></th>\n      <th>Airoli</th>\n      <th>Ambernath East</th>\n      <th>Ambernath West</th>\n      <th>Andheri</th>\n      <th>Andheri East</th>\n      <th>Andheri West</th>\n      <th>Badlapur East</th>\n      <th>Bandra East</th>\n      <th>Bandra West</th>\n      <th>Belapur</th>\n      <th>...</th>\n      <th>Vashi</th>\n      <th>Ville Parle East</th>\n      <th>Virar</th>\n      <th>Virar East</th>\n      <th>Virar West</th>\n      <th>Wadala</th>\n      <th>Wadala East Wadala</th>\n      <th>Worli</th>\n      <th>matunga east</th>\n      <th>mumbai</th>\n    </tr>\n  </thead>\n  <tbody>\n    <tr>\n      <th>0</th>\n      <td>1</td>\n      <td>0</td>\n      <td>0</td>\n      <td>0</td>\n      <td>0</td>\n      <td>0</td>\n      <td>0</td>\n      <td>0</td>\n      <td>0</td>\n      <td>0</td>\n      <td>...</td>\n      <td>0</td>\n      <td>0</td>\n      <td>0</td>\n      <td>0</td>\n      <td>0</td>\n      <td>0</td>\n      <td>0</td>\n      <td>0</td>\n      <td>0</td>\n      <td>0</td>\n    </tr>\n    <tr>\n      <th>1</th>\n      <td>1</td>\n      <td>0</td>\n      <td>0</td>\n      <td>0</td>\n      <td>0</td>\n      <td>0</td>\n      <td>0</td>\n      <td>0</td>\n      <td>0</td>\n      <td>0</td>\n      <td>...</td>\n      <td>0</td>\n      <td>0</td>\n      <td>0</td>\n      <td>0</td>\n      <td>0</td>\n      <td>0</td>\n      <td>0</td>\n      <td>0</td>\n      <td>0</td>\n      <td>0</td>\n    </tr>\n    <tr>\n      <th>2</th>\n      <td>1</td>\n      <td>0</td>\n      <td>0</td>\n      <td>0</td>\n      <td>0</td>\n      <td>0</td>\n      <td>0</td>\n      <td>0</td>\n      <td>0</td>\n      <td>0</td>\n      <td>...</td>\n      <td>0</td>\n      <td>0</td>\n      <td>0</td>\n      <td>0</td>\n      <td>0</td>\n      <td>0</td>\n      <td>0</td>\n      <td>0</td>\n      <td>0</td>\n      <td>0</td>\n    </tr>\n    <tr>\n      <th>3</th>\n      <td>1</td>\n      <td>0</td>\n      <td>0</td>\n      <td>0</td>\n      <td>0</td>\n      <td>0</td>\n      <td>0</td>\n      <td>0</td>\n      <td>0</td>\n      <td>0</td>\n      <td>...</td>\n      <td>0</td>\n      <td>0</td>\n      <td>0</td>\n      <td>0</td>\n      <td>0</td>\n      <td>0</td>\n      <td>0</td>\n      <td>0</td>\n      <td>0</td>\n      <td>0</td>\n    </tr>\n    <tr>\n      <th>4</th>\n      <td>1</td>\n      <td>0</td>\n      <td>0</td>\n      <td>0</td>\n      <td>0</td>\n      <td>0</td>\n      <td>0</td>\n      <td>0</td>\n      <td>0</td>\n      <td>0</td>\n      <td>...</td>\n      <td>0</td>\n      <td>0</td>\n      <td>0</td>\n      <td>0</td>\n      <td>0</td>\n      <td>0</td>\n      <td>0</td>\n      <td>0</td>\n      <td>0</td>\n      <td>0</td>\n    </tr>\n    <tr>\n      <th>...</th>\n      <td>...</td>\n      <td>...</td>\n      <td>...</td>\n      <td>...</td>\n      <td>...</td>\n      <td>...</td>\n      <td>...</td>\n      <td>...</td>\n      <td>...</td>\n      <td>...</td>\n      <td>...</td>\n      <td>...</td>\n      <td>...</td>\n      <td>...</td>\n      <td>...</td>\n      <td>...</td>\n      <td>...</td>\n      <td>...</td>\n      <td>...</td>\n      <td>...</td>\n      <td>...</td>\n    </tr>\n    <tr>\n      <th>3109</th>\n      <td>0</td>\n      <td>0</td>\n      <td>0</td>\n      <td>0</td>\n      <td>0</td>\n      <td>0</td>\n      <td>0</td>\n      <td>0</td>\n      <td>0</td>\n      <td>0</td>\n      <td>...</td>\n      <td>0</td>\n      <td>0</td>\n      <td>0</td>\n      <td>0</td>\n      <td>0</td>\n      <td>0</td>\n      <td>0</td>\n      <td>0</td>\n      <td>0</td>\n      <td>1</td>\n    </tr>\n    <tr>\n      <th>3110</th>\n      <td>0</td>\n      <td>0</td>\n      <td>0</td>\n      <td>0</td>\n      <td>0</td>\n      <td>0</td>\n      <td>0</td>\n      <td>0</td>\n      <td>0</td>\n      <td>0</td>\n      <td>...</td>\n      <td>0</td>\n      <td>0</td>\n      <td>0</td>\n      <td>0</td>\n      <td>0</td>\n      <td>0</td>\n      <td>0</td>\n      <td>0</td>\n      <td>0</td>\n      <td>1</td>\n    </tr>\n    <tr>\n      <th>3111</th>\n      <td>0</td>\n      <td>0</td>\n      <td>0</td>\n      <td>0</td>\n      <td>0</td>\n      <td>0</td>\n      <td>0</td>\n      <td>0</td>\n      <td>0</td>\n      <td>0</td>\n      <td>...</td>\n      <td>0</td>\n      <td>0</td>\n      <td>0</td>\n      <td>0</td>\n      <td>0</td>\n      <td>0</td>\n      <td>0</td>\n      <td>0</td>\n      <td>0</td>\n      <td>1</td>\n    </tr>\n    <tr>\n      <th>3112</th>\n      <td>0</td>\n      <td>0</td>\n      <td>0</td>\n      <td>0</td>\n      <td>0</td>\n      <td>0</td>\n      <td>0</td>\n      <td>0</td>\n      <td>0</td>\n      <td>0</td>\n      <td>...</td>\n      <td>0</td>\n      <td>0</td>\n      <td>0</td>\n      <td>0</td>\n      <td>0</td>\n      <td>0</td>\n      <td>0</td>\n      <td>0</td>\n      <td>0</td>\n      <td>1</td>\n    </tr>\n    <tr>\n      <th>3113</th>\n      <td>0</td>\n      <td>0</td>\n      <td>0</td>\n      <td>0</td>\n      <td>0</td>\n      <td>0</td>\n      <td>0</td>\n      <td>0</td>\n      <td>0</td>\n      <td>0</td>\n      <td>...</td>\n      <td>0</td>\n      <td>0</td>\n      <td>0</td>\n      <td>0</td>\n      <td>0</td>\n      <td>0</td>\n      <td>0</td>\n      <td>0</td>\n      <td>0</td>\n      <td>1</td>\n    </tr>\n  </tbody>\n</table>\n<p>3114 rows × 89 columns</p>\n</div>"
     },
     "execution_count": 61,
     "metadata": {},
     "output_type": "execute_result"
    }
   ],
   "source": [
    "dummies = pd.get_dummies(df9.location)\n",
    "dummies"
   ],
   "metadata": {
    "collapsed": false,
    "pycharm": {
     "name": "#%%\n"
    }
   }
  },
  {
   "cell_type": "code",
   "execution_count": 62,
   "outputs": [
    {
     "data": {
      "text/plain": "         Price  Area  bhk location  Airoli  Ambernath East  Ambernath West  \\\n0      7500000   600    1   Airoli       1               0               0   \n1      7500000   600    1   Airoli       1               0               0   \n2      7600000   650    1   Airoli       1               0               0   \n3      6500000   650    1   Airoli       1               0               0   \n4      9500000   780    1   Airoli       1               0               0   \n...        ...   ...  ...      ...     ...             ...             ...   \n3109   2021000   600    1   mumbai       0               0               0   \n3110   2116000   630    1   mumbai       0               0               0   \n3111  10800000   653    1   mumbai       0               0               0   \n3112   4500000   653    1   mumbai       0               0               0   \n3113  11000000  1100    2   mumbai       0               0               0   \n\n      Andheri  Andheri East  Andheri West  ...  Vashi  Ville Parle East  \\\n0           0             0             0  ...      0                 0   \n1           0             0             0  ...      0                 0   \n2           0             0             0  ...      0                 0   \n3           0             0             0  ...      0                 0   \n4           0             0             0  ...      0                 0   \n...       ...           ...           ...  ...    ...               ...   \n3109        0             0             0  ...      0                 0   \n3110        0             0             0  ...      0                 0   \n3111        0             0             0  ...      0                 0   \n3112        0             0             0  ...      0                 0   \n3113        0             0             0  ...      0                 0   \n\n      Virar  Virar East  Virar West  Wadala  Wadala East Wadala  Worli  \\\n0         0           0           0       0                   0      0   \n1         0           0           0       0                   0      0   \n2         0           0           0       0                   0      0   \n3         0           0           0       0                   0      0   \n4         0           0           0       0                   0      0   \n...     ...         ...         ...     ...                 ...    ...   \n3109      0           0           0       0                   0      0   \n3110      0           0           0       0                   0      0   \n3111      0           0           0       0                   0      0   \n3112      0           0           0       0                   0      0   \n3113      0           0           0       0                   0      0   \n\n      matunga east  mumbai  \n0                0       0  \n1                0       0  \n2                0       0  \n3                0       0  \n4                0       0  \n...            ...     ...  \n3109             0       1  \n3110             0       1  \n3111             0       1  \n3112             0       1  \n3113             0       1  \n\n[3114 rows x 93 columns]",
      "text/html": "<div>\n<style scoped>\n    .dataframe tbody tr th:only-of-type {\n        vertical-align: middle;\n    }\n\n    .dataframe tbody tr th {\n        vertical-align: top;\n    }\n\n    .dataframe thead th {\n        text-align: right;\n    }\n</style>\n<table border=\"1\" class=\"dataframe\">\n  <thead>\n    <tr style=\"text-align: right;\">\n      <th></th>\n      <th>Price</th>\n      <th>Area</th>\n      <th>bhk</th>\n      <th>location</th>\n      <th>Airoli</th>\n      <th>Ambernath East</th>\n      <th>Ambernath West</th>\n      <th>Andheri</th>\n      <th>Andheri East</th>\n      <th>Andheri West</th>\n      <th>...</th>\n      <th>Vashi</th>\n      <th>Ville Parle East</th>\n      <th>Virar</th>\n      <th>Virar East</th>\n      <th>Virar West</th>\n      <th>Wadala</th>\n      <th>Wadala East Wadala</th>\n      <th>Worli</th>\n      <th>matunga east</th>\n      <th>mumbai</th>\n    </tr>\n  </thead>\n  <tbody>\n    <tr>\n      <th>0</th>\n      <td>7500000</td>\n      <td>600</td>\n      <td>1</td>\n      <td>Airoli</td>\n      <td>1</td>\n      <td>0</td>\n      <td>0</td>\n      <td>0</td>\n      <td>0</td>\n      <td>0</td>\n      <td>...</td>\n      <td>0</td>\n      <td>0</td>\n      <td>0</td>\n      <td>0</td>\n      <td>0</td>\n      <td>0</td>\n      <td>0</td>\n      <td>0</td>\n      <td>0</td>\n      <td>0</td>\n    </tr>\n    <tr>\n      <th>1</th>\n      <td>7500000</td>\n      <td>600</td>\n      <td>1</td>\n      <td>Airoli</td>\n      <td>1</td>\n      <td>0</td>\n      <td>0</td>\n      <td>0</td>\n      <td>0</td>\n      <td>0</td>\n      <td>...</td>\n      <td>0</td>\n      <td>0</td>\n      <td>0</td>\n      <td>0</td>\n      <td>0</td>\n      <td>0</td>\n      <td>0</td>\n      <td>0</td>\n      <td>0</td>\n      <td>0</td>\n    </tr>\n    <tr>\n      <th>2</th>\n      <td>7600000</td>\n      <td>650</td>\n      <td>1</td>\n      <td>Airoli</td>\n      <td>1</td>\n      <td>0</td>\n      <td>0</td>\n      <td>0</td>\n      <td>0</td>\n      <td>0</td>\n      <td>...</td>\n      <td>0</td>\n      <td>0</td>\n      <td>0</td>\n      <td>0</td>\n      <td>0</td>\n      <td>0</td>\n      <td>0</td>\n      <td>0</td>\n      <td>0</td>\n      <td>0</td>\n    </tr>\n    <tr>\n      <th>3</th>\n      <td>6500000</td>\n      <td>650</td>\n      <td>1</td>\n      <td>Airoli</td>\n      <td>1</td>\n      <td>0</td>\n      <td>0</td>\n      <td>0</td>\n      <td>0</td>\n      <td>0</td>\n      <td>...</td>\n      <td>0</td>\n      <td>0</td>\n      <td>0</td>\n      <td>0</td>\n      <td>0</td>\n      <td>0</td>\n      <td>0</td>\n      <td>0</td>\n      <td>0</td>\n      <td>0</td>\n    </tr>\n    <tr>\n      <th>4</th>\n      <td>9500000</td>\n      <td>780</td>\n      <td>1</td>\n      <td>Airoli</td>\n      <td>1</td>\n      <td>0</td>\n      <td>0</td>\n      <td>0</td>\n      <td>0</td>\n      <td>0</td>\n      <td>...</td>\n      <td>0</td>\n      <td>0</td>\n      <td>0</td>\n      <td>0</td>\n      <td>0</td>\n      <td>0</td>\n      <td>0</td>\n      <td>0</td>\n      <td>0</td>\n      <td>0</td>\n    </tr>\n    <tr>\n      <th>...</th>\n      <td>...</td>\n      <td>...</td>\n      <td>...</td>\n      <td>...</td>\n      <td>...</td>\n      <td>...</td>\n      <td>...</td>\n      <td>...</td>\n      <td>...</td>\n      <td>...</td>\n      <td>...</td>\n      <td>...</td>\n      <td>...</td>\n      <td>...</td>\n      <td>...</td>\n      <td>...</td>\n      <td>...</td>\n      <td>...</td>\n      <td>...</td>\n      <td>...</td>\n      <td>...</td>\n    </tr>\n    <tr>\n      <th>3109</th>\n      <td>2021000</td>\n      <td>600</td>\n      <td>1</td>\n      <td>mumbai</td>\n      <td>0</td>\n      <td>0</td>\n      <td>0</td>\n      <td>0</td>\n      <td>0</td>\n      <td>0</td>\n      <td>...</td>\n      <td>0</td>\n      <td>0</td>\n      <td>0</td>\n      <td>0</td>\n      <td>0</td>\n      <td>0</td>\n      <td>0</td>\n      <td>0</td>\n      <td>0</td>\n      <td>1</td>\n    </tr>\n    <tr>\n      <th>3110</th>\n      <td>2116000</td>\n      <td>630</td>\n      <td>1</td>\n      <td>mumbai</td>\n      <td>0</td>\n      <td>0</td>\n      <td>0</td>\n      <td>0</td>\n      <td>0</td>\n      <td>0</td>\n      <td>...</td>\n      <td>0</td>\n      <td>0</td>\n      <td>0</td>\n      <td>0</td>\n      <td>0</td>\n      <td>0</td>\n      <td>0</td>\n      <td>0</td>\n      <td>0</td>\n      <td>1</td>\n    </tr>\n    <tr>\n      <th>3111</th>\n      <td>10800000</td>\n      <td>653</td>\n      <td>1</td>\n      <td>mumbai</td>\n      <td>0</td>\n      <td>0</td>\n      <td>0</td>\n      <td>0</td>\n      <td>0</td>\n      <td>0</td>\n      <td>...</td>\n      <td>0</td>\n      <td>0</td>\n      <td>0</td>\n      <td>0</td>\n      <td>0</td>\n      <td>0</td>\n      <td>0</td>\n      <td>0</td>\n      <td>0</td>\n      <td>1</td>\n    </tr>\n    <tr>\n      <th>3112</th>\n      <td>4500000</td>\n      <td>653</td>\n      <td>1</td>\n      <td>mumbai</td>\n      <td>0</td>\n      <td>0</td>\n      <td>0</td>\n      <td>0</td>\n      <td>0</td>\n      <td>0</td>\n      <td>...</td>\n      <td>0</td>\n      <td>0</td>\n      <td>0</td>\n      <td>0</td>\n      <td>0</td>\n      <td>0</td>\n      <td>0</td>\n      <td>0</td>\n      <td>0</td>\n      <td>1</td>\n    </tr>\n    <tr>\n      <th>3113</th>\n      <td>11000000</td>\n      <td>1100</td>\n      <td>2</td>\n      <td>mumbai</td>\n      <td>0</td>\n      <td>0</td>\n      <td>0</td>\n      <td>0</td>\n      <td>0</td>\n      <td>0</td>\n      <td>...</td>\n      <td>0</td>\n      <td>0</td>\n      <td>0</td>\n      <td>0</td>\n      <td>0</td>\n      <td>0</td>\n      <td>0</td>\n      <td>0</td>\n      <td>0</td>\n      <td>1</td>\n    </tr>\n  </tbody>\n</table>\n<p>3114 rows × 93 columns</p>\n</div>"
     },
     "execution_count": 62,
     "metadata": {},
     "output_type": "execute_result"
    }
   ],
   "source": [
    "df10 = pd.concat([df9, dummies], axis='columns')\n",
    "df10"
   ],
   "metadata": {
    "collapsed": false,
    "pycharm": {
     "name": "#%%\n"
    }
   }
  },
  {
   "cell_type": "code",
   "execution_count": 63,
   "outputs": [
    {
     "data": {
      "text/plain": "         Price  Area  bhk  Airoli  Ambernath East  Ambernath West  Andheri  \\\n0      7500000   600    1       1               0               0        0   \n1      7500000   600    1       1               0               0        0   \n2      7600000   650    1       1               0               0        0   \n3      6500000   650    1       1               0               0        0   \n4      9500000   780    1       1               0               0        0   \n...        ...   ...  ...     ...             ...             ...      ...   \n3109   2021000   600    1       0               0               0        0   \n3110   2116000   630    1       0               0               0        0   \n3111  10800000   653    1       0               0               0        0   \n3112   4500000   653    1       0               0               0        0   \n3113  11000000  1100    2       0               0               0        0   \n\n      Andheri East  Andheri West  Badlapur East  ...  Vashi  Ville Parle East  \\\n0                0             0              0  ...      0                 0   \n1                0             0              0  ...      0                 0   \n2                0             0              0  ...      0                 0   \n3                0             0              0  ...      0                 0   \n4                0             0              0  ...      0                 0   \n...            ...           ...            ...  ...    ...               ...   \n3109             0             0              0  ...      0                 0   \n3110             0             0              0  ...      0                 0   \n3111             0             0              0  ...      0                 0   \n3112             0             0              0  ...      0                 0   \n3113             0             0              0  ...      0                 0   \n\n      Virar  Virar East  Virar West  Wadala  Wadala East Wadala  Worli  \\\n0         0           0           0       0                   0      0   \n1         0           0           0       0                   0      0   \n2         0           0           0       0                   0      0   \n3         0           0           0       0                   0      0   \n4         0           0           0       0                   0      0   \n...     ...         ...         ...     ...                 ...    ...   \n3109      0           0           0       0                   0      0   \n3110      0           0           0       0                   0      0   \n3111      0           0           0       0                   0      0   \n3112      0           0           0       0                   0      0   \n3113      0           0           0       0                   0      0   \n\n      matunga east  mumbai  \n0                0       0  \n1                0       0  \n2                0       0  \n3                0       0  \n4                0       0  \n...            ...     ...  \n3109             0       1  \n3110             0       1  \n3111             0       1  \n3112             0       1  \n3113             0       1  \n\n[3114 rows x 92 columns]",
      "text/html": "<div>\n<style scoped>\n    .dataframe tbody tr th:only-of-type {\n        vertical-align: middle;\n    }\n\n    .dataframe tbody tr th {\n        vertical-align: top;\n    }\n\n    .dataframe thead th {\n        text-align: right;\n    }\n</style>\n<table border=\"1\" class=\"dataframe\">\n  <thead>\n    <tr style=\"text-align: right;\">\n      <th></th>\n      <th>Price</th>\n      <th>Area</th>\n      <th>bhk</th>\n      <th>Airoli</th>\n      <th>Ambernath East</th>\n      <th>Ambernath West</th>\n      <th>Andheri</th>\n      <th>Andheri East</th>\n      <th>Andheri West</th>\n      <th>Badlapur East</th>\n      <th>...</th>\n      <th>Vashi</th>\n      <th>Ville Parle East</th>\n      <th>Virar</th>\n      <th>Virar East</th>\n      <th>Virar West</th>\n      <th>Wadala</th>\n      <th>Wadala East Wadala</th>\n      <th>Worli</th>\n      <th>matunga east</th>\n      <th>mumbai</th>\n    </tr>\n  </thead>\n  <tbody>\n    <tr>\n      <th>0</th>\n      <td>7500000</td>\n      <td>600</td>\n      <td>1</td>\n      <td>1</td>\n      <td>0</td>\n      <td>0</td>\n      <td>0</td>\n      <td>0</td>\n      <td>0</td>\n      <td>0</td>\n      <td>...</td>\n      <td>0</td>\n      <td>0</td>\n      <td>0</td>\n      <td>0</td>\n      <td>0</td>\n      <td>0</td>\n      <td>0</td>\n      <td>0</td>\n      <td>0</td>\n      <td>0</td>\n    </tr>\n    <tr>\n      <th>1</th>\n      <td>7500000</td>\n      <td>600</td>\n      <td>1</td>\n      <td>1</td>\n      <td>0</td>\n      <td>0</td>\n      <td>0</td>\n      <td>0</td>\n      <td>0</td>\n      <td>0</td>\n      <td>...</td>\n      <td>0</td>\n      <td>0</td>\n      <td>0</td>\n      <td>0</td>\n      <td>0</td>\n      <td>0</td>\n      <td>0</td>\n      <td>0</td>\n      <td>0</td>\n      <td>0</td>\n    </tr>\n    <tr>\n      <th>2</th>\n      <td>7600000</td>\n      <td>650</td>\n      <td>1</td>\n      <td>1</td>\n      <td>0</td>\n      <td>0</td>\n      <td>0</td>\n      <td>0</td>\n      <td>0</td>\n      <td>0</td>\n      <td>...</td>\n      <td>0</td>\n      <td>0</td>\n      <td>0</td>\n      <td>0</td>\n      <td>0</td>\n      <td>0</td>\n      <td>0</td>\n      <td>0</td>\n      <td>0</td>\n      <td>0</td>\n    </tr>\n    <tr>\n      <th>3</th>\n      <td>6500000</td>\n      <td>650</td>\n      <td>1</td>\n      <td>1</td>\n      <td>0</td>\n      <td>0</td>\n      <td>0</td>\n      <td>0</td>\n      <td>0</td>\n      <td>0</td>\n      <td>...</td>\n      <td>0</td>\n      <td>0</td>\n      <td>0</td>\n      <td>0</td>\n      <td>0</td>\n      <td>0</td>\n      <td>0</td>\n      <td>0</td>\n      <td>0</td>\n      <td>0</td>\n    </tr>\n    <tr>\n      <th>4</th>\n      <td>9500000</td>\n      <td>780</td>\n      <td>1</td>\n      <td>1</td>\n      <td>0</td>\n      <td>0</td>\n      <td>0</td>\n      <td>0</td>\n      <td>0</td>\n      <td>0</td>\n      <td>...</td>\n      <td>0</td>\n      <td>0</td>\n      <td>0</td>\n      <td>0</td>\n      <td>0</td>\n      <td>0</td>\n      <td>0</td>\n      <td>0</td>\n      <td>0</td>\n      <td>0</td>\n    </tr>\n    <tr>\n      <th>...</th>\n      <td>...</td>\n      <td>...</td>\n      <td>...</td>\n      <td>...</td>\n      <td>...</td>\n      <td>...</td>\n      <td>...</td>\n      <td>...</td>\n      <td>...</td>\n      <td>...</td>\n      <td>...</td>\n      <td>...</td>\n      <td>...</td>\n      <td>...</td>\n      <td>...</td>\n      <td>...</td>\n      <td>...</td>\n      <td>...</td>\n      <td>...</td>\n      <td>...</td>\n      <td>...</td>\n    </tr>\n    <tr>\n      <th>3109</th>\n      <td>2021000</td>\n      <td>600</td>\n      <td>1</td>\n      <td>0</td>\n      <td>0</td>\n      <td>0</td>\n      <td>0</td>\n      <td>0</td>\n      <td>0</td>\n      <td>0</td>\n      <td>...</td>\n      <td>0</td>\n      <td>0</td>\n      <td>0</td>\n      <td>0</td>\n      <td>0</td>\n      <td>0</td>\n      <td>0</td>\n      <td>0</td>\n      <td>0</td>\n      <td>1</td>\n    </tr>\n    <tr>\n      <th>3110</th>\n      <td>2116000</td>\n      <td>630</td>\n      <td>1</td>\n      <td>0</td>\n      <td>0</td>\n      <td>0</td>\n      <td>0</td>\n      <td>0</td>\n      <td>0</td>\n      <td>0</td>\n      <td>...</td>\n      <td>0</td>\n      <td>0</td>\n      <td>0</td>\n      <td>0</td>\n      <td>0</td>\n      <td>0</td>\n      <td>0</td>\n      <td>0</td>\n      <td>0</td>\n      <td>1</td>\n    </tr>\n    <tr>\n      <th>3111</th>\n      <td>10800000</td>\n      <td>653</td>\n      <td>1</td>\n      <td>0</td>\n      <td>0</td>\n      <td>0</td>\n      <td>0</td>\n      <td>0</td>\n      <td>0</td>\n      <td>0</td>\n      <td>...</td>\n      <td>0</td>\n      <td>0</td>\n      <td>0</td>\n      <td>0</td>\n      <td>0</td>\n      <td>0</td>\n      <td>0</td>\n      <td>0</td>\n      <td>0</td>\n      <td>1</td>\n    </tr>\n    <tr>\n      <th>3112</th>\n      <td>4500000</td>\n      <td>653</td>\n      <td>1</td>\n      <td>0</td>\n      <td>0</td>\n      <td>0</td>\n      <td>0</td>\n      <td>0</td>\n      <td>0</td>\n      <td>0</td>\n      <td>...</td>\n      <td>0</td>\n      <td>0</td>\n      <td>0</td>\n      <td>0</td>\n      <td>0</td>\n      <td>0</td>\n      <td>0</td>\n      <td>0</td>\n      <td>0</td>\n      <td>1</td>\n    </tr>\n    <tr>\n      <th>3113</th>\n      <td>11000000</td>\n      <td>1100</td>\n      <td>2</td>\n      <td>0</td>\n      <td>0</td>\n      <td>0</td>\n      <td>0</td>\n      <td>0</td>\n      <td>0</td>\n      <td>0</td>\n      <td>...</td>\n      <td>0</td>\n      <td>0</td>\n      <td>0</td>\n      <td>0</td>\n      <td>0</td>\n      <td>0</td>\n      <td>0</td>\n      <td>0</td>\n      <td>0</td>\n      <td>1</td>\n    </tr>\n  </tbody>\n</table>\n<p>3114 rows × 92 columns</p>\n</div>"
     },
     "execution_count": 63,
     "metadata": {},
     "output_type": "execute_result"
    }
   ],
   "source": [
    "df11 = df10.drop('location', axis='columns')\n",
    "df11"
   ],
   "metadata": {
    "collapsed": false,
    "pycharm": {
     "name": "#%%\n"
    }
   }
  },
  {
   "cell_type": "code",
   "execution_count": 64,
   "outputs": [
    {
     "data": {
      "text/plain": "(3114, 92)"
     },
     "execution_count": 64,
     "metadata": {},
     "output_type": "execute_result"
    }
   ],
   "source": [
    "df11.shape"
   ],
   "metadata": {
    "collapsed": false,
    "pycharm": {
     "name": "#%%\n"
    }
   }
  },
  {
   "cell_type": "code",
   "execution_count": 65,
   "outputs": [
    {
     "data": {
      "text/plain": "      Area  bhk  Airoli  Ambernath East  Ambernath West  Andheri  \\\n0      600    1       1               0               0        0   \n1      600    1       1               0               0        0   \n2      650    1       1               0               0        0   \n3      650    1       1               0               0        0   \n4      780    1       1               0               0        0   \n...    ...  ...     ...             ...             ...      ...   \n3109   600    1       0               0               0        0   \n3110   630    1       0               0               0        0   \n3111   653    1       0               0               0        0   \n3112   653    1       0               0               0        0   \n3113  1100    2       0               0               0        0   \n\n      Andheri East  Andheri West  Badlapur East  Bandra East  ...  Vashi  \\\n0                0             0              0            0  ...      0   \n1                0             0              0            0  ...      0   \n2                0             0              0            0  ...      0   \n3                0             0              0            0  ...      0   \n4                0             0              0            0  ...      0   \n...            ...           ...            ...          ...  ...    ...   \n3109             0             0              0            0  ...      0   \n3110             0             0              0            0  ...      0   \n3111             0             0              0            0  ...      0   \n3112             0             0              0            0  ...      0   \n3113             0             0              0            0  ...      0   \n\n      Ville Parle East  Virar  Virar East  Virar West  Wadala  \\\n0                    0      0           0           0       0   \n1                    0      0           0           0       0   \n2                    0      0           0           0       0   \n3                    0      0           0           0       0   \n4                    0      0           0           0       0   \n...                ...    ...         ...         ...     ...   \n3109                 0      0           0           0       0   \n3110                 0      0           0           0       0   \n3111                 0      0           0           0       0   \n3112                 0      0           0           0       0   \n3113                 0      0           0           0       0   \n\n      Wadala East Wadala  Worli  matunga east  mumbai  \n0                      0      0             0       0  \n1                      0      0             0       0  \n2                      0      0             0       0  \n3                      0      0             0       0  \n4                      0      0             0       0  \n...                  ...    ...           ...     ...  \n3109                   0      0             0       1  \n3110                   0      0             0       1  \n3111                   0      0             0       1  \n3112                   0      0             0       1  \n3113                   0      0             0       1  \n\n[3114 rows x 91 columns]",
      "text/html": "<div>\n<style scoped>\n    .dataframe tbody tr th:only-of-type {\n        vertical-align: middle;\n    }\n\n    .dataframe tbody tr th {\n        vertical-align: top;\n    }\n\n    .dataframe thead th {\n        text-align: right;\n    }\n</style>\n<table border=\"1\" class=\"dataframe\">\n  <thead>\n    <tr style=\"text-align: right;\">\n      <th></th>\n      <th>Area</th>\n      <th>bhk</th>\n      <th>Airoli</th>\n      <th>Ambernath East</th>\n      <th>Ambernath West</th>\n      <th>Andheri</th>\n      <th>Andheri East</th>\n      <th>Andheri West</th>\n      <th>Badlapur East</th>\n      <th>Bandra East</th>\n      <th>...</th>\n      <th>Vashi</th>\n      <th>Ville Parle East</th>\n      <th>Virar</th>\n      <th>Virar East</th>\n      <th>Virar West</th>\n      <th>Wadala</th>\n      <th>Wadala East Wadala</th>\n      <th>Worli</th>\n      <th>matunga east</th>\n      <th>mumbai</th>\n    </tr>\n  </thead>\n  <tbody>\n    <tr>\n      <th>0</th>\n      <td>600</td>\n      <td>1</td>\n      <td>1</td>\n      <td>0</td>\n      <td>0</td>\n      <td>0</td>\n      <td>0</td>\n      <td>0</td>\n      <td>0</td>\n      <td>0</td>\n      <td>...</td>\n      <td>0</td>\n      <td>0</td>\n      <td>0</td>\n      <td>0</td>\n      <td>0</td>\n      <td>0</td>\n      <td>0</td>\n      <td>0</td>\n      <td>0</td>\n      <td>0</td>\n    </tr>\n    <tr>\n      <th>1</th>\n      <td>600</td>\n      <td>1</td>\n      <td>1</td>\n      <td>0</td>\n      <td>0</td>\n      <td>0</td>\n      <td>0</td>\n      <td>0</td>\n      <td>0</td>\n      <td>0</td>\n      <td>...</td>\n      <td>0</td>\n      <td>0</td>\n      <td>0</td>\n      <td>0</td>\n      <td>0</td>\n      <td>0</td>\n      <td>0</td>\n      <td>0</td>\n      <td>0</td>\n      <td>0</td>\n    </tr>\n    <tr>\n      <th>2</th>\n      <td>650</td>\n      <td>1</td>\n      <td>1</td>\n      <td>0</td>\n      <td>0</td>\n      <td>0</td>\n      <td>0</td>\n      <td>0</td>\n      <td>0</td>\n      <td>0</td>\n      <td>...</td>\n      <td>0</td>\n      <td>0</td>\n      <td>0</td>\n      <td>0</td>\n      <td>0</td>\n      <td>0</td>\n      <td>0</td>\n      <td>0</td>\n      <td>0</td>\n      <td>0</td>\n    </tr>\n    <tr>\n      <th>3</th>\n      <td>650</td>\n      <td>1</td>\n      <td>1</td>\n      <td>0</td>\n      <td>0</td>\n      <td>0</td>\n      <td>0</td>\n      <td>0</td>\n      <td>0</td>\n      <td>0</td>\n      <td>...</td>\n      <td>0</td>\n      <td>0</td>\n      <td>0</td>\n      <td>0</td>\n      <td>0</td>\n      <td>0</td>\n      <td>0</td>\n      <td>0</td>\n      <td>0</td>\n      <td>0</td>\n    </tr>\n    <tr>\n      <th>4</th>\n      <td>780</td>\n      <td>1</td>\n      <td>1</td>\n      <td>0</td>\n      <td>0</td>\n      <td>0</td>\n      <td>0</td>\n      <td>0</td>\n      <td>0</td>\n      <td>0</td>\n      <td>...</td>\n      <td>0</td>\n      <td>0</td>\n      <td>0</td>\n      <td>0</td>\n      <td>0</td>\n      <td>0</td>\n      <td>0</td>\n      <td>0</td>\n      <td>0</td>\n      <td>0</td>\n    </tr>\n    <tr>\n      <th>...</th>\n      <td>...</td>\n      <td>...</td>\n      <td>...</td>\n      <td>...</td>\n      <td>...</td>\n      <td>...</td>\n      <td>...</td>\n      <td>...</td>\n      <td>...</td>\n      <td>...</td>\n      <td>...</td>\n      <td>...</td>\n      <td>...</td>\n      <td>...</td>\n      <td>...</td>\n      <td>...</td>\n      <td>...</td>\n      <td>...</td>\n      <td>...</td>\n      <td>...</td>\n      <td>...</td>\n    </tr>\n    <tr>\n      <th>3109</th>\n      <td>600</td>\n      <td>1</td>\n      <td>0</td>\n      <td>0</td>\n      <td>0</td>\n      <td>0</td>\n      <td>0</td>\n      <td>0</td>\n      <td>0</td>\n      <td>0</td>\n      <td>...</td>\n      <td>0</td>\n      <td>0</td>\n      <td>0</td>\n      <td>0</td>\n      <td>0</td>\n      <td>0</td>\n      <td>0</td>\n      <td>0</td>\n      <td>0</td>\n      <td>1</td>\n    </tr>\n    <tr>\n      <th>3110</th>\n      <td>630</td>\n      <td>1</td>\n      <td>0</td>\n      <td>0</td>\n      <td>0</td>\n      <td>0</td>\n      <td>0</td>\n      <td>0</td>\n      <td>0</td>\n      <td>0</td>\n      <td>...</td>\n      <td>0</td>\n      <td>0</td>\n      <td>0</td>\n      <td>0</td>\n      <td>0</td>\n      <td>0</td>\n      <td>0</td>\n      <td>0</td>\n      <td>0</td>\n      <td>1</td>\n    </tr>\n    <tr>\n      <th>3111</th>\n      <td>653</td>\n      <td>1</td>\n      <td>0</td>\n      <td>0</td>\n      <td>0</td>\n      <td>0</td>\n      <td>0</td>\n      <td>0</td>\n      <td>0</td>\n      <td>0</td>\n      <td>...</td>\n      <td>0</td>\n      <td>0</td>\n      <td>0</td>\n      <td>0</td>\n      <td>0</td>\n      <td>0</td>\n      <td>0</td>\n      <td>0</td>\n      <td>0</td>\n      <td>1</td>\n    </tr>\n    <tr>\n      <th>3112</th>\n      <td>653</td>\n      <td>1</td>\n      <td>0</td>\n      <td>0</td>\n      <td>0</td>\n      <td>0</td>\n      <td>0</td>\n      <td>0</td>\n      <td>0</td>\n      <td>0</td>\n      <td>...</td>\n      <td>0</td>\n      <td>0</td>\n      <td>0</td>\n      <td>0</td>\n      <td>0</td>\n      <td>0</td>\n      <td>0</td>\n      <td>0</td>\n      <td>0</td>\n      <td>1</td>\n    </tr>\n    <tr>\n      <th>3113</th>\n      <td>1100</td>\n      <td>2</td>\n      <td>0</td>\n      <td>0</td>\n      <td>0</td>\n      <td>0</td>\n      <td>0</td>\n      <td>0</td>\n      <td>0</td>\n      <td>0</td>\n      <td>...</td>\n      <td>0</td>\n      <td>0</td>\n      <td>0</td>\n      <td>0</td>\n      <td>0</td>\n      <td>0</td>\n      <td>0</td>\n      <td>0</td>\n      <td>0</td>\n      <td>1</td>\n    </tr>\n  </tbody>\n</table>\n<p>3114 rows × 91 columns</p>\n</div>"
     },
     "execution_count": 65,
     "metadata": {},
     "output_type": "execute_result"
    }
   ],
   "source": [
    "X = df11.drop('Price', axis='columns')\n",
    "X"
   ],
   "metadata": {
    "collapsed": false,
    "pycharm": {
     "name": "#%%\n"
    }
   }
  },
  {
   "cell_type": "code",
   "execution_count": 66,
   "outputs": [
    {
     "data": {
      "text/plain": "0        7500000\n1        7500000\n2        7600000\n3        6500000\n4        9500000\n          ...   \n3109     2021000\n3110     2116000\n3111    10800000\n3112     4500000\n3113    11000000\nName: Price, Length: 3114, dtype: int64"
     },
     "execution_count": 66,
     "metadata": {},
     "output_type": "execute_result"
    }
   ],
   "source": [
    "y = df11.Price\n",
    "y"
   ],
   "metadata": {
    "collapsed": false,
    "pycharm": {
     "name": "#%%\n"
    }
   }
  },
  {
   "cell_type": "code",
   "execution_count": 67,
   "outputs": [],
   "source": [
    "from sklearn.model_selection import train_test_split\n",
    "\n",
    "X_train, X_test, y_train, y_test = train_test_split(X, y, test_size=0.2, random_state=10)"
   ],
   "metadata": {
    "collapsed": false,
    "pycharm": {
     "name": "#%%\n"
    }
   }
  },
  {
   "cell_type": "code",
   "execution_count": 68,
   "outputs": [
    {
     "data": {
      "text/plain": "0.9187850748804935"
     },
     "execution_count": 68,
     "metadata": {},
     "output_type": "execute_result"
    }
   ],
   "source": [
    "from sklearn.linear_model import LinearRegression\n",
    "\n",
    "regressor = LinearRegression()\n",
    "regressor.fit(X_train, y_train)\n",
    "regressor.score(X_test, y_test)"
   ],
   "metadata": {
    "collapsed": false,
    "pycharm": {
     "name": "#%%\n"
    }
   }
  },
  {
   "cell_type": "code",
   "execution_count": 69,
   "outputs": [
    {
     "data": {
      "text/plain": "array([0.91563945, 0.91036121, 0.91344389, 0.91039331, 0.90608663])"
     },
     "execution_count": 69,
     "metadata": {},
     "output_type": "execute_result"
    }
   ],
   "source": [
    "from sklearn.model_selection import ShuffleSplit, cross_val_score\n",
    "\n",
    "cv = ShuffleSplit(test_size=0.2, random_state=0, n_splits=5)\n",
    "cross_val_score(LinearRegression(), X, y, cv=cv)"
   ],
   "metadata": {
    "collapsed": false,
    "pycharm": {
     "name": "#%%\n"
    }
   }
  },
  {
   "cell_type": "code",
   "execution_count": 70,
   "outputs": [
    {
     "name": "stderr",
     "output_type": "stream",
     "text": [
      "C:\\Users\\Public\\Python\\lib\\site-packages\\sklearn\\linear_model\\_base.py:141: FutureWarning: 'normalize' was deprecated in version 1.0 and will be removed in 1.2.\n",
      "If you wish to scale the data, use Pipeline with a StandardScaler in a preprocessing stage. To reproduce the previous behavior:\n",
      "\n",
      "from sklearn.pipeline import make_pipeline\n",
      "\n",
      "model = make_pipeline(StandardScaler(with_mean=False), LinearRegression())\n",
      "\n",
      "If you wish to pass a sample_weight parameter, you need to pass it as a fit parameter to each step of the pipeline as follows:\n",
      "\n",
      "kwargs = {s[0] + '__sample_weight': sample_weight for s in model.steps}\n",
      "model.fit(X, y, **kwargs)\n",
      "\n",
      "\n",
      "  warnings.warn(\n",
      "C:\\Users\\Public\\Python\\lib\\site-packages\\sklearn\\linear_model\\_base.py:141: FutureWarning: 'normalize' was deprecated in version 1.0 and will be removed in 1.2.\n",
      "If you wish to scale the data, use Pipeline with a StandardScaler in a preprocessing stage. To reproduce the previous behavior:\n",
      "\n",
      "from sklearn.pipeline import make_pipeline\n",
      "\n",
      "model = make_pipeline(StandardScaler(with_mean=False), LinearRegression())\n",
      "\n",
      "If you wish to pass a sample_weight parameter, you need to pass it as a fit parameter to each step of the pipeline as follows:\n",
      "\n",
      "kwargs = {s[0] + '__sample_weight': sample_weight for s in model.steps}\n",
      "model.fit(X, y, **kwargs)\n",
      "\n",
      "\n",
      "  warnings.warn(\n",
      "C:\\Users\\Public\\Python\\lib\\site-packages\\sklearn\\linear_model\\_base.py:141: FutureWarning: 'normalize' was deprecated in version 1.0 and will be removed in 1.2.\n",
      "If you wish to scale the data, use Pipeline with a StandardScaler in a preprocessing stage. To reproduce the previous behavior:\n",
      "\n",
      "from sklearn.pipeline import make_pipeline\n",
      "\n",
      "model = make_pipeline(StandardScaler(with_mean=False), LinearRegression())\n",
      "\n",
      "If you wish to pass a sample_weight parameter, you need to pass it as a fit parameter to each step of the pipeline as follows:\n",
      "\n",
      "kwargs = {s[0] + '__sample_weight': sample_weight for s in model.steps}\n",
      "model.fit(X, y, **kwargs)\n",
      "\n",
      "\n",
      "  warnings.warn(\n",
      "C:\\Users\\Public\\Python\\lib\\site-packages\\sklearn\\linear_model\\_base.py:141: FutureWarning: 'normalize' was deprecated in version 1.0 and will be removed in 1.2.\n",
      "If you wish to scale the data, use Pipeline with a StandardScaler in a preprocessing stage. To reproduce the previous behavior:\n",
      "\n",
      "from sklearn.pipeline import make_pipeline\n",
      "\n",
      "model = make_pipeline(StandardScaler(with_mean=False), LinearRegression())\n",
      "\n",
      "If you wish to pass a sample_weight parameter, you need to pass it as a fit parameter to each step of the pipeline as follows:\n",
      "\n",
      "kwargs = {s[0] + '__sample_weight': sample_weight for s in model.steps}\n",
      "model.fit(X, y, **kwargs)\n",
      "\n",
      "\n",
      "  warnings.warn(\n",
      "C:\\Users\\Public\\Python\\lib\\site-packages\\sklearn\\linear_model\\_base.py:141: FutureWarning: 'normalize' was deprecated in version 1.0 and will be removed in 1.2.\n",
      "If you wish to scale the data, use Pipeline with a StandardScaler in a preprocessing stage. To reproduce the previous behavior:\n",
      "\n",
      "from sklearn.pipeline import make_pipeline\n",
      "\n",
      "model = make_pipeline(StandardScaler(with_mean=False), LinearRegression())\n",
      "\n",
      "If you wish to pass a sample_weight parameter, you need to pass it as a fit parameter to each step of the pipeline as follows:\n",
      "\n",
      "kwargs = {s[0] + '__sample_weight': sample_weight for s in model.steps}\n",
      "model.fit(X, y, **kwargs)\n",
      "\n",
      "\n",
      "  warnings.warn(\n",
      "C:\\Users\\Public\\Python\\lib\\site-packages\\sklearn\\linear_model\\_base.py:148: FutureWarning: 'normalize' was deprecated in version 1.0 and will be removed in 1.2. Please leave the normalize parameter to its default value to silence this warning. The default behavior of this estimator is to not do any normalization. If normalization is needed please use sklearn.preprocessing.StandardScaler instead.\n",
      "  warnings.warn(\n",
      "C:\\Users\\Public\\Python\\lib\\site-packages\\sklearn\\linear_model\\_base.py:148: FutureWarning: 'normalize' was deprecated in version 1.0 and will be removed in 1.2. Please leave the normalize parameter to its default value to silence this warning. The default behavior of this estimator is to not do any normalization. If normalization is needed please use sklearn.preprocessing.StandardScaler instead.\n",
      "  warnings.warn(\n",
      "C:\\Users\\Public\\Python\\lib\\site-packages\\sklearn\\linear_model\\_base.py:148: FutureWarning: 'normalize' was deprecated in version 1.0 and will be removed in 1.2. Please leave the normalize parameter to its default value to silence this warning. The default behavior of this estimator is to not do any normalization. If normalization is needed please use sklearn.preprocessing.StandardScaler instead.\n",
      "  warnings.warn(\n",
      "C:\\Users\\Public\\Python\\lib\\site-packages\\sklearn\\linear_model\\_base.py:148: FutureWarning: 'normalize' was deprecated in version 1.0 and will be removed in 1.2. Please leave the normalize parameter to its default value to silence this warning. The default behavior of this estimator is to not do any normalization. If normalization is needed please use sklearn.preprocessing.StandardScaler instead.\n",
      "  warnings.warn(\n",
      "C:\\Users\\Public\\Python\\lib\\site-packages\\sklearn\\linear_model\\_base.py:148: FutureWarning: 'normalize' was deprecated in version 1.0 and will be removed in 1.2. Please leave the normalize parameter to its default value to silence this warning. The default behavior of this estimator is to not do any normalization. If normalization is needed please use sklearn.preprocessing.StandardScaler instead.\n",
      "  warnings.warn(\n",
      "C:\\Users\\Public\\Python\\lib\\site-packages\\sklearn\\linear_model\\_base.py:141: FutureWarning: 'normalize' was deprecated in version 1.0 and will be removed in 1.2.\n",
      "If you wish to scale the data, use Pipeline with a StandardScaler in a preprocessing stage. To reproduce the previous behavior:\n",
      "\n",
      "from sklearn.pipeline import make_pipeline\n",
      "\n",
      "model = make_pipeline(StandardScaler(with_mean=False), LinearRegression())\n",
      "\n",
      "If you wish to pass a sample_weight parameter, you need to pass it as a fit parameter to each step of the pipeline as follows:\n",
      "\n",
      "kwargs = {s[0] + '__sample_weight': sample_weight for s in model.steps}\n",
      "model.fit(X, y, **kwargs)\n",
      "\n",
      "\n",
      "  warnings.warn(\n",
      "C:\\Users\\Public\\Python\\lib\\site-packages\\sklearn\\linear_model\\_coordinate_descent.py:648: ConvergenceWarning: Objective did not converge. You might want to increase the number of iterations, check the scale of the features or consider increasing regularisation. Duality gap: 1.424e+16, tolerance: 3.615e+13\n",
      "  model = cd_fast.enet_coordinate_descent(\n",
      "C:\\Users\\Public\\Python\\lib\\site-packages\\sklearn\\linear_model\\_coordinate_descent.py:648: ConvergenceWarning: Objective did not converge. You might want to increase the number of iterations, check the scale of the features or consider increasing regularisation. Duality gap: 1.326e+16, tolerance: 3.794e+13\n",
      "  model = cd_fast.enet_coordinate_descent(\n",
      "C:\\Users\\Public\\Python\\lib\\site-packages\\sklearn\\linear_model\\_coordinate_descent.py:648: ConvergenceWarning: Objective did not converge. You might want to increase the number of iterations, check the scale of the features or consider increasing regularisation. Duality gap: 1.301e+16, tolerance: 3.439e+13\n",
      "  model = cd_fast.enet_coordinate_descent(\n",
      "C:\\Users\\Public\\Python\\lib\\site-packages\\sklearn\\linear_model\\_coordinate_descent.py:648: ConvergenceWarning: Objective did not converge. You might want to increase the number of iterations, check the scale of the features or consider increasing regularisation. Duality gap: 1.391e+16, tolerance: 3.595e+13\n",
      "  model = cd_fast.enet_coordinate_descent(\n",
      "C:\\Users\\Public\\Python\\lib\\site-packages\\sklearn\\linear_model\\_coordinate_descent.py:648: ConvergenceWarning: Objective did not converge. You might want to increase the number of iterations, check the scale of the features or consider increasing regularisation. Duality gap: 1.173e+16, tolerance: 3.068e+13\n",
      "  model = cd_fast.enet_coordinate_descent(\n",
      "C:\\Users\\Public\\Python\\lib\\site-packages\\sklearn\\linear_model\\_coordinate_descent.py:648: ConvergenceWarning: Objective did not converge. You might want to increase the number of iterations, check the scale of the features or consider increasing regularisation. Duality gap: 5.574e+13, tolerance: 3.615e+13\n",
      "  model = cd_fast.enet_coordinate_descent(\n",
      "C:\\Users\\Public\\Python\\lib\\site-packages\\sklearn\\linear_model\\_coordinate_descent.py:648: ConvergenceWarning: Objective did not converge. You might want to increase the number of iterations, check the scale of the features or consider increasing regularisation. Duality gap: 3.862e+14, tolerance: 3.794e+13\n",
      "  model = cd_fast.enet_coordinate_descent(\n",
      "C:\\Users\\Public\\Python\\lib\\site-packages\\sklearn\\linear_model\\_coordinate_descent.py:648: ConvergenceWarning: Objective did not converge. You might want to increase the number of iterations, check the scale of the features or consider increasing regularisation. Duality gap: 4.551e+13, tolerance: 3.439e+13\n",
      "  model = cd_fast.enet_coordinate_descent(\n",
      "C:\\Users\\Public\\Python\\lib\\site-packages\\sklearn\\linear_model\\_coordinate_descent.py:648: ConvergenceWarning: Objective did not converge. You might want to increase the number of iterations, check the scale of the features or consider increasing regularisation. Duality gap: 4.890e+13, tolerance: 3.595e+13\n",
      "  model = cd_fast.enet_coordinate_descent(\n",
      "C:\\Users\\Public\\Python\\lib\\site-packages\\sklearn\\linear_model\\_coordinate_descent.py:648: ConvergenceWarning: Objective did not converge. You might want to increase the number of iterations, check the scale of the features or consider increasing regularisation. Duality gap: 1.147e+14, tolerance: 3.068e+13\n",
      "  model = cd_fast.enet_coordinate_descent(\n",
      "C:\\Users\\Public\\Python\\lib\\site-packages\\sklearn\\linear_model\\_coordinate_descent.py:648: ConvergenceWarning: Objective did not converge. You might want to increase the number of iterations, check the scale of the features or consider increasing regularisation. Duality gap: 1.404e+16, tolerance: 3.615e+13\n",
      "  model = cd_fast.enet_coordinate_descent(\n",
      "C:\\Users\\Public\\Python\\lib\\site-packages\\sklearn\\linear_model\\_coordinate_descent.py:648: ConvergenceWarning: Objective did not converge. You might want to increase the number of iterations, check the scale of the features or consider increasing regularisation. Duality gap: 1.430e+16, tolerance: 3.794e+13\n",
      "  model = cd_fast.enet_coordinate_descent(\n",
      "C:\\Users\\Public\\Python\\lib\\site-packages\\sklearn\\linear_model\\_coordinate_descent.py:648: ConvergenceWarning: Objective did not converge. You might want to increase the number of iterations, check the scale of the features or consider increasing regularisation. Duality gap: 1.204e+16, tolerance: 3.439e+13\n",
      "  model = cd_fast.enet_coordinate_descent(\n",
      "C:\\Users\\Public\\Python\\lib\\site-packages\\sklearn\\linear_model\\_coordinate_descent.py:648: ConvergenceWarning: Objective did not converge. You might want to increase the number of iterations, check the scale of the features or consider increasing regularisation. Duality gap: 1.287e+16, tolerance: 3.595e+13\n",
      "  model = cd_fast.enet_coordinate_descent(\n",
      "C:\\Users\\Public\\Python\\lib\\site-packages\\sklearn\\linear_model\\_coordinate_descent.py:648: ConvergenceWarning: Objective did not converge. You might want to increase the number of iterations, check the scale of the features or consider increasing regularisation. Duality gap: 1.194e+16, tolerance: 3.068e+13\n",
      "  model = cd_fast.enet_coordinate_descent(\n",
      "C:\\Users\\Public\\Python\\lib\\site-packages\\sklearn\\linear_model\\_coordinate_descent.py:648: ConvergenceWarning: Objective did not converge. You might want to increase the number of iterations, check the scale of the features or consider increasing regularisation. Duality gap: 5.583e+13, tolerance: 3.615e+13\n",
      "  model = cd_fast.enet_coordinate_descent(\n",
      "C:\\Users\\Public\\Python\\lib\\site-packages\\sklearn\\linear_model\\_coordinate_descent.py:648: ConvergenceWarning: Objective did not converge. You might want to increase the number of iterations, check the scale of the features or consider increasing regularisation. Duality gap: 3.864e+14, tolerance: 3.794e+13\n",
      "  model = cd_fast.enet_coordinate_descent(\n",
      "C:\\Users\\Public\\Python\\lib\\site-packages\\sklearn\\linear_model\\_coordinate_descent.py:648: ConvergenceWarning: Objective did not converge. You might want to increase the number of iterations, check the scale of the features or consider increasing regularisation. Duality gap: 4.560e+13, tolerance: 3.439e+13\n",
      "  model = cd_fast.enet_coordinate_descent(\n",
      "C:\\Users\\Public\\Python\\lib\\site-packages\\sklearn\\linear_model\\_coordinate_descent.py:648: ConvergenceWarning: Objective did not converge. You might want to increase the number of iterations, check the scale of the features or consider increasing regularisation. Duality gap: 4.899e+13, tolerance: 3.595e+13\n",
      "  model = cd_fast.enet_coordinate_descent(\n",
      "C:\\Users\\Public\\Python\\lib\\site-packages\\sklearn\\linear_model\\_coordinate_descent.py:648: ConvergenceWarning: Objective did not converge. You might want to increase the number of iterations, check the scale of the features or consider increasing regularisation. Duality gap: 1.149e+14, tolerance: 3.068e+13\n",
      "  model = cd_fast.enet_coordinate_descent(\n",
      "C:\\Users\\Public\\Python\\lib\\site-packages\\sklearn\\tree\\_classes.py:397: FutureWarning: Criterion 'mse' was deprecated in v1.0 and will be removed in version 1.2. Use `criterion='squared_error'` which is equivalent.\n",
      "  warnings.warn(\n",
      "C:\\Users\\Public\\Python\\lib\\site-packages\\sklearn\\tree\\_classes.py:397: FutureWarning: Criterion 'mse' was deprecated in v1.0 and will be removed in version 1.2. Use `criterion='squared_error'` which is equivalent.\n",
      "  warnings.warn(\n",
      "C:\\Users\\Public\\Python\\lib\\site-packages\\sklearn\\tree\\_classes.py:397: FutureWarning: Criterion 'mse' was deprecated in v1.0 and will be removed in version 1.2. Use `criterion='squared_error'` which is equivalent.\n",
      "  warnings.warn(\n",
      "C:\\Users\\Public\\Python\\lib\\site-packages\\sklearn\\tree\\_classes.py:397: FutureWarning: Criterion 'mse' was deprecated in v1.0 and will be removed in version 1.2. Use `criterion='squared_error'` which is equivalent.\n",
      "  warnings.warn(\n",
      "C:\\Users\\Public\\Python\\lib\\site-packages\\sklearn\\tree\\_classes.py:397: FutureWarning: Criterion 'mse' was deprecated in v1.0 and will be removed in version 1.2. Use `criterion='squared_error'` which is equivalent.\n",
      "  warnings.warn(\n",
      "C:\\Users\\Public\\Python\\lib\\site-packages\\sklearn\\tree\\_classes.py:397: FutureWarning: Criterion 'mse' was deprecated in v1.0 and will be removed in version 1.2. Use `criterion='squared_error'` which is equivalent.\n",
      "  warnings.warn(\n",
      "C:\\Users\\Public\\Python\\lib\\site-packages\\sklearn\\tree\\_classes.py:397: FutureWarning: Criterion 'mse' was deprecated in v1.0 and will be removed in version 1.2. Use `criterion='squared_error'` which is equivalent.\n",
      "  warnings.warn(\n",
      "C:\\Users\\Public\\Python\\lib\\site-packages\\sklearn\\tree\\_classes.py:397: FutureWarning: Criterion 'mse' was deprecated in v1.0 and will be removed in version 1.2. Use `criterion='squared_error'` which is equivalent.\n",
      "  warnings.warn(\n",
      "C:\\Users\\Public\\Python\\lib\\site-packages\\sklearn\\tree\\_classes.py:397: FutureWarning: Criterion 'mse' was deprecated in v1.0 and will be removed in version 1.2. Use `criterion='squared_error'` which is equivalent.\n",
      "  warnings.warn(\n",
      "C:\\Users\\Public\\Python\\lib\\site-packages\\sklearn\\tree\\_classes.py:397: FutureWarning: Criterion 'mse' was deprecated in v1.0 and will be removed in version 1.2. Use `criterion='squared_error'` which is equivalent.\n",
      "  warnings.warn(\n"
     ]
    },
    {
     "data": {
      "text/plain": "               model  best_score  \\\n0  linear_regression    0.911281   \n1              lasso    0.911185   \n2      decision_tree    0.912601   \n\n                                         best_params  \n0                                {'normalize': True}  \n1                {'alpha': 2, 'selection': 'random'}  \n2  {'criterion': 'friedman_mse', 'splitter': 'ran...  ",
      "text/html": "<div>\n<style scoped>\n    .dataframe tbody tr th:only-of-type {\n        vertical-align: middle;\n    }\n\n    .dataframe tbody tr th {\n        vertical-align: top;\n    }\n\n    .dataframe thead th {\n        text-align: right;\n    }\n</style>\n<table border=\"1\" class=\"dataframe\">\n  <thead>\n    <tr style=\"text-align: right;\">\n      <th></th>\n      <th>model</th>\n      <th>best_score</th>\n      <th>best_params</th>\n    </tr>\n  </thead>\n  <tbody>\n    <tr>\n      <th>0</th>\n      <td>linear_regression</td>\n      <td>0.911281</td>\n      <td>{'normalize': True}</td>\n    </tr>\n    <tr>\n      <th>1</th>\n      <td>lasso</td>\n      <td>0.911185</td>\n      <td>{'alpha': 2, 'selection': 'random'}</td>\n    </tr>\n    <tr>\n      <th>2</th>\n      <td>decision_tree</td>\n      <td>0.912601</td>\n      <td>{'criterion': 'friedman_mse', 'splitter': 'ran...</td>\n    </tr>\n  </tbody>\n</table>\n</div>"
     },
     "execution_count": 70,
     "metadata": {},
     "output_type": "execute_result"
    }
   ],
   "source": [
    "from sklearn.model_selection import GridSearchCV\n",
    "\n",
    "from sklearn.linear_model import Lasso\n",
    "from sklearn.tree import DecisionTreeRegressor\n",
    "\n",
    "\n",
    "def find_best_model_using_gridsearchcv(X, y):\n",
    "    algos = {\n",
    "        'linear_regression': {\n",
    "            'model': LinearRegression(),\n",
    "            'params': {\n",
    "                'normalize': [True, False]\n",
    "            }\n",
    "        },\n",
    "        'lasso': {\n",
    "            'model': Lasso(),\n",
    "            'params': {\n",
    "                'alpha': [1, 2],\n",
    "                'selection': ['random', 'cyclic']\n",
    "            }\n",
    "        },\n",
    "        'decision_tree': {\n",
    "            'model': DecisionTreeRegressor(),\n",
    "            'params': {\n",
    "                'criterion': ['mse', 'friedman_mse'],\n",
    "                'splitter': ['best', 'random']\n",
    "            }\n",
    "        }\n",
    "    }\n",
    "    scores = []\n",
    "    cv = ShuffleSplit(n_splits=5, test_size=0.2, random_state=0)\n",
    "    for algo_name, config in algos.items():\n",
    "        gs = GridSearchCV(config['model'], config['params'], cv=cv, return_train_score=False)\n",
    "        gs.fit(X, y)\n",
    "        scores.append({\n",
    "            'model': algo_name,\n",
    "            'best_score': gs.best_score_,\n",
    "            'best_params': gs.best_params_\n",
    "        })\n",
    "\n",
    "    return pd.DataFrame(scores, columns=['model', 'best_score', 'best_params'])\n",
    "\n",
    "\n",
    "find_best_model_using_gridsearchcv(X, y)"
   ],
   "metadata": {
    "collapsed": false,
    "pycharm": {
     "name": "#%%\n"
    }
   }
  },
  {
   "cell_type": "code",
   "execution_count": 71,
   "outputs": [],
   "source": [
    "dtree = DecisionTreeRegressor(criterion='friedman_mse', splitter='random')"
   ],
   "metadata": {
    "collapsed": false,
    "pycharm": {
     "name": "#%%\n"
    }
   }
  },
  {
   "cell_type": "code",
   "execution_count": 72,
   "outputs": [
    {
     "data": {
      "text/plain": "0.9366449557761141"
     },
     "execution_count": 72,
     "metadata": {},
     "output_type": "execute_result"
    }
   ],
   "source": [
    "dtree.fit(X_train, y_train)\n",
    "dtree.score(X_test, y_test)"
   ],
   "metadata": {
    "collapsed": false,
    "pycharm": {
     "name": "#%%\n"
    }
   }
  },
  {
   "cell_type": "code",
   "execution_count": 73,
   "outputs": [
    {
     "data": {
      "text/plain": "array([0.92486557, 0.88432078, 0.92569097, 0.93916312, 0.88669873])"
     },
     "execution_count": 73,
     "metadata": {},
     "output_type": "execute_result"
    }
   ],
   "source": [
    "from sklearn.model_selection import ShuffleSplit, cross_val_score\n",
    "\n",
    "cv = ShuffleSplit(test_size=0.2, random_state=0, n_splits=5)\n",
    "cross_val_score(dtree, X, y, cv=cv)"
   ],
   "metadata": {
    "collapsed": false,
    "pycharm": {
     "name": "#%%\n"
    }
   }
  },
  {
   "cell_type": "code",
   "execution_count": 74,
   "outputs": [],
   "source": [
    "import pickle\n",
    "with open('mumbai_price_prediction_model.pickle', 'wb') as f:\n",
    "    pickle.dump(dtree, f)"
   ],
   "metadata": {
    "collapsed": false,
    "pycharm": {
     "name": "#%%\n"
    }
   }
  },
  {
   "cell_type": "code",
   "execution_count": 75,
   "outputs": [],
   "source": [
    "import json\n",
    "\n",
    "columns = {\n",
    "    'data_columns': [col.lower() for col in X.columns]\n",
    "}\n",
    "with open('columns.json', 'w') as f:\n",
    "    f.write(json.dumps(columns))"
   ],
   "metadata": {
    "collapsed": false,
    "pycharm": {
     "name": "#%%\n"
    }
   }
  }
 ],
 "metadata": {
  "kernelspec": {
   "display_name": "Python 3",
   "language": "python",
   "name": "python3"
  },
  "language_info": {
   "codemirror_mode": {
    "name": "ipython",
    "version": 2
   },
   "file_extension": ".py",
   "mimetype": "text/x-python",
   "name": "python",
   "nbconvert_exporter": "python",
   "pygments_lexer": "ipython2",
   "version": "2.7.6"
  }
 },
 "nbformat": 4,
 "nbformat_minor": 0
}